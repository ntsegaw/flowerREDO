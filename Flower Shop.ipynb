{
 "cells": [
  {
   "cell_type": "markdown",
   "metadata": {},
   "source": [
    "# Phase One Project UPDATE"
   ]
  },
  {
   "cell_type": "markdown",
   "metadata": {},
   "source": [
    "### Where to open a new flower shop... in Silver Spring, Maryland or Leesburg, Virginia?"
   ]
  },
  {
   "cell_type": "markdown",
   "metadata": {},
   "source": [
    "## Imports"
   ]
  },
  {
   "cell_type": "code",
   "execution_count": 51,
   "metadata": {},
   "outputs": [],
   "source": [
    "import requests\n",
    "import json\n",
    "import pandas as pd\n",
    "import numpy as np\n",
    "import os\n",
    "from matplotlib import pyplot as plt\n",
    "import folium"
   ]
  },
  {
   "cell_type": "markdown",
   "metadata": {},
   "source": [
    "## Yelp API Call"
   ]
  },
  {
   "cell_type": "code",
   "execution_count": 8,
   "metadata": {},
   "outputs": [],
   "source": [
    "# Prep API key\n",
    "with open('api_key.txt') as f:\n",
    "    lines = f.read()"
   ]
  },
  {
   "cell_type": "code",
   "execution_count": 9,
   "metadata": {},
   "outputs": [],
   "source": [
    "# Yelp API convention\n",
    "url = 'https://api.yelp.com/v3/businesses/search'\n",
    "key = lines\n",
    "headers = {\n",
    "    'Authorization': 'Bearer %s' % key\n",
    "}"
   ]
  },
  {
   "cell_type": "code",
   "execution_count": 10,
   "metadata": {},
   "outputs": [],
   "source": [
    "# Pull raw search data from Yelp for Silver Spring, MD (50 at a time)\n",
    "data = []\n",
    "for offset in range(0, 1000, 50):\n",
    "    url_params = {\n",
    "        'term': \"flower\",\n",
    "        'location': 'Silver Spring+MD',\n",
    "        'limit': 50,\n",
    "        'offset': offset,\n",
    "        \"radius\": 8047\n",
    "    }\n",
    "\n",
    "    response = requests.get(url, headers=headers, params=url_params)\n",
    "    if response.status_code == 200:\n",
    "        data += response.json()['businesses']\n",
    "\n",
    "    elif response.status_code == 400:\n",
    "            print('400 Bad Request')\n",
    "            break"
   ]
  },
  {
   "cell_type": "code",
   "execution_count": 11,
   "metadata": {},
   "outputs": [],
   "source": [
    "# Pull raw search data from Yelp for Leesburg, VA (50 at a time)\n",
    "data2 = []\n",
    "for offset in range(0, 1000, 50):\n",
    "    url_params = {\n",
    "        'term': \"flower\",\n",
    "        'location': 'Leesburg+VA',\n",
    "        'limit': 50,\n",
    "        'offset': offset,\n",
    "        \"radius\": 8047\n",
    "    }\n",
    "\n",
    "    response = requests.get(url, headers=headers, params=url_params)\n",
    "    if response.status_code == 200:\n",
    "        data2 += response.json()['businesses']\n",
    "\n",
    "    elif response.status_code == 400:\n",
    "            print('400 Bad Request')\n",
    "            break"
   ]
  },
  {
   "cell_type": "markdown",
   "metadata": {},
   "source": [
    "## Clean Yelp Results"
   ]
  },
  {
   "cell_type": "code",
   "execution_count": 12,
   "metadata": {},
   "outputs": [],
   "source": [
    "# Function to clean raw Yelp data\n",
    "def getbiz(params):\n",
    "    names = []\n",
    "    ratings = []\n",
    "    pricing = []\n",
    "    cnt = []\n",
    "    address = []\n",
    "    is_closed = []\n",
    "    review_count = []\n",
    "    categories = []\n",
    "    city = []\n",
    "    distance = []\n",
    "    longitude = []\n",
    "    latitude = []\n",
    "\n",
    "    for i in range(len(params)):\n",
    "        names.append(params[i]['name'])\n",
    "        ratings.append(params[i]['rating'])\n",
    "        address.append((params[i]['location']['address1']))\n",
    "        is_closed.append(params[i]['is_closed'])\n",
    "        review_count.append(params[i]['review_count'])\n",
    "        categories.append(params[i]['categories'])\n",
    "        city.append(params[i]['location']['city'])\n",
    "        distance.append(params[i]['distance'])\n",
    "        longitude.append(params[i]['coordinates']['longitude'])\n",
    "        latitude.append(params[i]['coordinates']['latitude'])\n",
    "        try:\n",
    "            [pricing.append(len(params[i]['price']))]\n",
    "        except:\n",
    "            pricing.append(None)\n",
    "        cnt.append(params[i]['review_count'])\n",
    "    biz = {'name': names, 'rating': ratings, 'pricing': pricing, 'num_reviews': cnt, 'street_address': address, \n",
    "            'is_closed': is_closed, 'review_count': review_count, 'categories': categories, 'city': city,\n",
    "            'distance': distance, 'longitude': longitude, 'latitude': latitude}\n",
    "\n",
    "\n",
    "    return pd.DataFrame(biz)"
   ]
  },
  {
   "cell_type": "code",
   "execution_count": 13,
   "metadata": {},
   "outputs": [],
   "source": [
    "# Clean results\n",
    "ssdf = getbiz(data)\n",
    "lbdf = getbiz(data2)"
   ]
  },
  {
   "cell_type": "code",
   "execution_count": 14,
   "metadata": {},
   "outputs": [],
   "source": [
    "# Delete shops that are not within the respective cities (Yelp search results included 'serviced areas'...)\n",
    "ssdf = ssdf[ssdf.city == 'Silver Spring']\n",
    "lbdf = lbdf[lbdf.city == 'Leesburg']"
   ]
  },
  {
   "cell_type": "code",
   "execution_count": 15,
   "metadata": {},
   "outputs": [],
   "source": [
    "# Add new ordered index and drop out of order one post clean\n",
    "ssdf.reset_index(inplace = True)\n",
    "ssdf.drop('index', 1, inplace= True)"
   ]
  },
  {
   "cell_type": "code",
   "execution_count": 16,
   "metadata": {},
   "outputs": [],
   "source": [
    "# Add new ordered index and drop out of order one post clean\n",
    "lbdf.reset_index(inplace = True)\n",
    "lbdf.drop('index', 1, inplace= True)"
   ]
  },
  {
   "cell_type": "code",
   "execution_count": 17,
   "metadata": {},
   "outputs": [],
   "source": [
    "#Save cleaned data to CSV\n",
    "ssdf.to_csv('silver_spring.csv', encoding='utf-8', index=False)\n",
    "\n",
    "lbdf.to_csv('leesburg.csv', encoding='utf-8', index=False)"
   ]
  },
  {
   "cell_type": "code",
   "execution_count": 18,
   "metadata": {},
   "outputs": [],
   "source": [
    "# Seperate alias from list to better filter out non-flower shops \n",
    "def find_alias(params):\n",
    "    alias = []\n",
    "    for i in range(len(params)):\n",
    "        alias.append(params['categories'][i][0]['alias'])\n",
    "       # if params['categories'][i][0]['alias'] == '':\n",
    "        #    df.drop(params['categories'][i])\n",
    "    params['alias'] = alias"
   ]
  },
  {
   "cell_type": "code",
   "execution_count": 20,
   "metadata": {},
   "outputs": [],
   "source": [
    "# Run for Silver Spring df\n",
    "find_alias(ssdf)"
   ]
  },
  {
   "cell_type": "code",
   "execution_count": null,
   "metadata": {},
   "outputs": [],
   "source": [
    "#Find and delete empty category which prevents function from running\n",
    "lbdf = lbdf.dropna(subset=['categories'])"
   ]
  },
  {
   "cell_type": "code",
   "execution_count": null,
   "metadata": {},
   "outputs": [],
   "source": [
    "#Find and destroy empty list which prevents function from running\n",
    "lbdf = lbdf[lbdf['categories'].map(lambda d: len(d)) > 0]"
   ]
  },
  {
   "cell_type": "code",
   "execution_count": 26,
   "metadata": {},
   "outputs": [],
   "source": [
    "# Run for Silver Spring df\n",
    "find_alias(lbdf)"
   ]
  },
  {
   "cell_type": "code",
   "execution_count": 20,
   "metadata": {},
   "outputs": [],
   "source": [
    "#FIND OUT HOW TO KEEP MULTI PURPOSE STORES (SECOND ALIAS)"
   ]
  },
  {
   "cell_type": "code",
   "execution_count": 27,
   "metadata": {},
   "outputs": [],
   "source": [
    "#Function to filter non-flowershops\n",
    "def flower_filter(params):\n",
    "    indexNames = params[(params['alias'] != 'florists') & (params['alias'] != 'floraldesigners') ].index\n",
    "    params.drop(indexNames, inplace=True)\n",
    "    return params"
   ]
  },
  {
   "cell_type": "code",
   "execution_count": 28,
   "metadata": {},
   "outputs": [],
   "source": [
    "lbdf = flower_filter(lbdf)\n",
    "ssdf = flower_filter(ssdf)"
   ]
  },
  {
   "cell_type": "code",
   "execution_count": 29,
   "metadata": {},
   "outputs": [
    {
     "data": {
      "text/html": [
       "<div>\n",
       "<style scoped>\n",
       "    .dataframe tbody tr th:only-of-type {\n",
       "        vertical-align: middle;\n",
       "    }\n",
       "\n",
       "    .dataframe tbody tr th {\n",
       "        vertical-align: top;\n",
       "    }\n",
       "\n",
       "    .dataframe thead th {\n",
       "        text-align: right;\n",
       "    }\n",
       "</style>\n",
       "<table border=\"1\" class=\"dataframe\">\n",
       "  <thead>\n",
       "    <tr style=\"text-align: right;\">\n",
       "      <th></th>\n",
       "      <th>name</th>\n",
       "      <th>rating</th>\n",
       "      <th>pricing</th>\n",
       "      <th>num_reviews</th>\n",
       "      <th>street_address</th>\n",
       "      <th>is_closed</th>\n",
       "      <th>review_count</th>\n",
       "      <th>categories</th>\n",
       "      <th>city</th>\n",
       "      <th>distance</th>\n",
       "      <th>longitude</th>\n",
       "      <th>latitude</th>\n",
       "      <th>alias</th>\n",
       "    </tr>\n",
       "  </thead>\n",
       "  <tbody>\n",
       "    <tr>\n",
       "      <th>0</th>\n",
       "      <td>Bell Flowers, Inc.</td>\n",
       "      <td>5.0</td>\n",
       "      <td>2.0</td>\n",
       "      <td>71</td>\n",
       "      <td>8947 Brookville Rd</td>\n",
       "      <td>False</td>\n",
       "      <td>71</td>\n",
       "      <td>[{'alias': 'florists', 'title': 'Florists'}]</td>\n",
       "      <td>Silver Spring</td>\n",
       "      <td>2972.202721</td>\n",
       "      <td>-77.052067</td>\n",
       "      <td>39.003009</td>\n",
       "      <td>florists</td>\n",
       "    </tr>\n",
       "    <tr>\n",
       "      <th>1</th>\n",
       "      <td>Danisa's Wholesale Fresh Flowers Inc</td>\n",
       "      <td>4.5</td>\n",
       "      <td>2.0</td>\n",
       "      <td>28</td>\n",
       "      <td>8870 Monard Dr</td>\n",
       "      <td>False</td>\n",
       "      <td>28</td>\n",
       "      <td>[{'alias': 'florists', 'title': 'Florists'}]</td>\n",
       "      <td>Silver Spring</td>\n",
       "      <td>3567.895819</td>\n",
       "      <td>-77.059157</td>\n",
       "      <td>39.001541</td>\n",
       "      <td>florists</td>\n",
       "    </tr>\n",
       "    <tr>\n",
       "      <th>2</th>\n",
       "      <td>Potomac Floral Wholesale</td>\n",
       "      <td>3.5</td>\n",
       "      <td>2.0</td>\n",
       "      <td>76</td>\n",
       "      <td>2403 Linden Ln</td>\n",
       "      <td>False</td>\n",
       "      <td>76</td>\n",
       "      <td>[{'alias': 'florists', 'title': 'Florists'}, {...</td>\n",
       "      <td>Silver Spring</td>\n",
       "      <td>3155.302144</td>\n",
       "      <td>-77.050338</td>\n",
       "      <td>39.009649</td>\n",
       "      <td>florists</td>\n",
       "    </tr>\n",
       "    <tr>\n",
       "      <th>4</th>\n",
       "      <td>Garden Vivien</td>\n",
       "      <td>5.0</td>\n",
       "      <td>NaN</td>\n",
       "      <td>2</td>\n",
       "      <td>2223 Kansas Ave</td>\n",
       "      <td>False</td>\n",
       "      <td>2</td>\n",
       "      <td>[{'alias': 'florists', 'title': 'Florists'}]</td>\n",
       "      <td>Silver Spring</td>\n",
       "      <td>2721.772142</td>\n",
       "      <td>-77.049093</td>\n",
       "      <td>39.003290</td>\n",
       "      <td>florists</td>\n",
       "    </tr>\n",
       "    <tr>\n",
       "      <th>5</th>\n",
       "      <td>Da Vinci's Florist</td>\n",
       "      <td>4.0</td>\n",
       "      <td>2.0</td>\n",
       "      <td>37</td>\n",
       "      <td>2756 Garfield Ave</td>\n",
       "      <td>False</td>\n",
       "      <td>37</td>\n",
       "      <td>[{'alias': 'florists', 'title': 'Florists'}, {...</td>\n",
       "      <td>Silver Spring</td>\n",
       "      <td>3451.436878</td>\n",
       "      <td>-77.057779</td>\n",
       "      <td>39.001881</td>\n",
       "      <td>florists</td>\n",
       "    </tr>\n",
       "    <tr>\n",
       "      <th>6</th>\n",
       "      <td>Creative Floral Designs</td>\n",
       "      <td>3.5</td>\n",
       "      <td>2.0</td>\n",
       "      <td>27</td>\n",
       "      <td>12158 Tech Rd</td>\n",
       "      <td>False</td>\n",
       "      <td>27</td>\n",
       "      <td>[{'alias': 'florists', 'title': 'Florists'}, {...</td>\n",
       "      <td>Silver Spring</td>\n",
       "      <td>7528.587951</td>\n",
       "      <td>-76.967169</td>\n",
       "      <td>39.054732</td>\n",
       "      <td>florists</td>\n",
       "    </tr>\n",
       "    <tr>\n",
       "      <th>8</th>\n",
       "      <td>Ella's Florals</td>\n",
       "      <td>5.0</td>\n",
       "      <td>NaN</td>\n",
       "      <td>4</td>\n",
       "      <td>None</td>\n",
       "      <td>False</td>\n",
       "      <td>4</td>\n",
       "      <td>[{'alias': 'florists', 'title': 'Florists'}]</td>\n",
       "      <td>Silver Spring</td>\n",
       "      <td>5007.226265</td>\n",
       "      <td>-77.028870</td>\n",
       "      <td>38.996680</td>\n",
       "      <td>florists</td>\n",
       "    </tr>\n",
       "    <tr>\n",
       "      <th>9</th>\n",
       "      <td>Roxana Multiservices</td>\n",
       "      <td>3.0</td>\n",
       "      <td>NaN</td>\n",
       "      <td>6</td>\n",
       "      <td>8727 Flower Ave</td>\n",
       "      <td>False</td>\n",
       "      <td>6</td>\n",
       "      <td>[{'alias': 'floraldesigners', 'title': 'Floral...</td>\n",
       "      <td>Silver Spring</td>\n",
       "      <td>1238.291097</td>\n",
       "      <td>-77.003873</td>\n",
       "      <td>38.999579</td>\n",
       "      <td>floraldesigners</td>\n",
       "    </tr>\n",
       "    <tr>\n",
       "      <th>10</th>\n",
       "      <td>Citiflowers</td>\n",
       "      <td>2.5</td>\n",
       "      <td>NaN</td>\n",
       "      <td>11</td>\n",
       "      <td>2321 Stewart Ave</td>\n",
       "      <td>False</td>\n",
       "      <td>11</td>\n",
       "      <td>[{'alias': 'florists', 'title': 'Florists'}, {...</td>\n",
       "      <td>Silver Spring</td>\n",
       "      <td>2826.536441</td>\n",
       "      <td>-77.050319</td>\n",
       "      <td>39.002958</td>\n",
       "      <td>florists</td>\n",
       "    </tr>\n",
       "    <tr>\n",
       "      <th>13</th>\n",
       "      <td>Sweet Stems Floral</td>\n",
       "      <td>5.0</td>\n",
       "      <td>NaN</td>\n",
       "      <td>2</td>\n",
       "      <td>3020 Beethoven Way</td>\n",
       "      <td>False</td>\n",
       "      <td>2</td>\n",
       "      <td>[{'alias': 'floraldesigners', 'title': 'Floral...</td>\n",
       "      <td>Silver Spring</td>\n",
       "      <td>9928.829936</td>\n",
       "      <td>-76.945920</td>\n",
       "      <td>39.069223</td>\n",
       "      <td>floraldesigners</td>\n",
       "    </tr>\n",
       "  </tbody>\n",
       "</table>\n",
       "</div>"
      ],
      "text/plain": [
       "                                    name  rating  pricing  num_reviews  \\\n",
       "0                     Bell Flowers, Inc.     5.0      2.0           71   \n",
       "1   Danisa's Wholesale Fresh Flowers Inc     4.5      2.0           28   \n",
       "2               Potomac Floral Wholesale     3.5      2.0           76   \n",
       "4                          Garden Vivien     5.0      NaN            2   \n",
       "5                     Da Vinci's Florist     4.0      2.0           37   \n",
       "6                Creative Floral Designs     3.5      2.0           27   \n",
       "8                         Ella's Florals     5.0      NaN            4   \n",
       "9                   Roxana Multiservices     3.0      NaN            6   \n",
       "10                           Citiflowers     2.5      NaN           11   \n",
       "13                    Sweet Stems Floral     5.0      NaN            2   \n",
       "\n",
       "        street_address  is_closed  review_count  \\\n",
       "0   8947 Brookville Rd      False            71   \n",
       "1       8870 Monard Dr      False            28   \n",
       "2       2403 Linden Ln      False            76   \n",
       "4      2223 Kansas Ave      False             2   \n",
       "5    2756 Garfield Ave      False            37   \n",
       "6        12158 Tech Rd      False            27   \n",
       "8                 None      False             4   \n",
       "9      8727 Flower Ave      False             6   \n",
       "10    2321 Stewart Ave      False            11   \n",
       "13  3020 Beethoven Way      False             2   \n",
       "\n",
       "                                           categories           city  \\\n",
       "0        [{'alias': 'florists', 'title': 'Florists'}]  Silver Spring   \n",
       "1        [{'alias': 'florists', 'title': 'Florists'}]  Silver Spring   \n",
       "2   [{'alias': 'florists', 'title': 'Florists'}, {...  Silver Spring   \n",
       "4        [{'alias': 'florists', 'title': 'Florists'}]  Silver Spring   \n",
       "5   [{'alias': 'florists', 'title': 'Florists'}, {...  Silver Spring   \n",
       "6   [{'alias': 'florists', 'title': 'Florists'}, {...  Silver Spring   \n",
       "8        [{'alias': 'florists', 'title': 'Florists'}]  Silver Spring   \n",
       "9   [{'alias': 'floraldesigners', 'title': 'Floral...  Silver Spring   \n",
       "10  [{'alias': 'florists', 'title': 'Florists'}, {...  Silver Spring   \n",
       "13  [{'alias': 'floraldesigners', 'title': 'Floral...  Silver Spring   \n",
       "\n",
       "       distance  longitude   latitude            alias  \n",
       "0   2972.202721 -77.052067  39.003009         florists  \n",
       "1   3567.895819 -77.059157  39.001541         florists  \n",
       "2   3155.302144 -77.050338  39.009649         florists  \n",
       "4   2721.772142 -77.049093  39.003290         florists  \n",
       "5   3451.436878 -77.057779  39.001881         florists  \n",
       "6   7528.587951 -76.967169  39.054732         florists  \n",
       "8   5007.226265 -77.028870  38.996680         florists  \n",
       "9   1238.291097 -77.003873  38.999579  floraldesigners  \n",
       "10  2826.536441 -77.050319  39.002958         florists  \n",
       "13  9928.829936 -76.945920  39.069223  floraldesigners  "
      ]
     },
     "execution_count": 29,
     "metadata": {},
     "output_type": "execute_result"
    }
   ],
   "source": [
    "ssdf"
   ]
  },
  {
   "cell_type": "code",
   "execution_count": 30,
   "metadata": {},
   "outputs": [
    {
     "data": {
      "text/html": [
       "<div>\n",
       "<style scoped>\n",
       "    .dataframe tbody tr th:only-of-type {\n",
       "        vertical-align: middle;\n",
       "    }\n",
       "\n",
       "    .dataframe tbody tr th {\n",
       "        vertical-align: top;\n",
       "    }\n",
       "\n",
       "    .dataframe thead th {\n",
       "        text-align: right;\n",
       "    }\n",
       "</style>\n",
       "<table border=\"1\" class=\"dataframe\">\n",
       "  <thead>\n",
       "    <tr style=\"text-align: right;\">\n",
       "      <th></th>\n",
       "      <th>name</th>\n",
       "      <th>rating</th>\n",
       "      <th>pricing</th>\n",
       "      <th>num_reviews</th>\n",
       "      <th>street_address</th>\n",
       "      <th>is_closed</th>\n",
       "      <th>review_count</th>\n",
       "      <th>categories</th>\n",
       "      <th>city</th>\n",
       "      <th>distance</th>\n",
       "      <th>longitude</th>\n",
       "      <th>latitude</th>\n",
       "      <th>alias</th>\n",
       "    </tr>\n",
       "  </thead>\n",
       "  <tbody>\n",
       "    <tr>\n",
       "      <th>0</th>\n",
       "      <td>Loudoun D Floral</td>\n",
       "      <td>4.5</td>\n",
       "      <td>2.0</td>\n",
       "      <td>16</td>\n",
       "      <td></td>\n",
       "      <td>False</td>\n",
       "      <td>16</td>\n",
       "      <td>[{'alias': 'florists', 'title': 'Florists'}]</td>\n",
       "      <td>Leesburg</td>\n",
       "      <td>1491.759497</td>\n",
       "      <td>-77.534730</td>\n",
       "      <td>39.130220</td>\n",
       "      <td>florists</td>\n",
       "    </tr>\n",
       "    <tr>\n",
       "      <th>1</th>\n",
       "      <td>J Morris Flowers</td>\n",
       "      <td>4.0</td>\n",
       "      <td>3.0</td>\n",
       "      <td>27</td>\n",
       "      <td>120 East Market St</td>\n",
       "      <td>False</td>\n",
       "      <td>27</td>\n",
       "      <td>[{'alias': 'florists', 'title': 'Florists'}]</td>\n",
       "      <td>Leesburg</td>\n",
       "      <td>1314.094845</td>\n",
       "      <td>-77.561445</td>\n",
       "      <td>39.114299</td>\n",
       "      <td>florists</td>\n",
       "    </tr>\n",
       "    <tr>\n",
       "      <th>2</th>\n",
       "      <td>CPK Floral Designs</td>\n",
       "      <td>5.0</td>\n",
       "      <td>NaN</td>\n",
       "      <td>13</td>\n",
       "      <td>None</td>\n",
       "      <td>False</td>\n",
       "      <td>13</td>\n",
       "      <td>[{'alias': 'florists', 'title': 'Florists'}, {...</td>\n",
       "      <td>Leesburg</td>\n",
       "      <td>1491.759497</td>\n",
       "      <td>-77.531944</td>\n",
       "      <td>39.119907</td>\n",
       "      <td>florists</td>\n",
       "    </tr>\n",
       "    <tr>\n",
       "      <th>3</th>\n",
       "      <td>Jerry's Flowers &amp; Gifts</td>\n",
       "      <td>4.0</td>\n",
       "      <td>2.0</td>\n",
       "      <td>22</td>\n",
       "      <td>700 Fieldstone Dr NE</td>\n",
       "      <td>False</td>\n",
       "      <td>22</td>\n",
       "      <td>[{'alias': 'florists', 'title': 'Florists'}]</td>\n",
       "      <td>Leesburg</td>\n",
       "      <td>1147.831498</td>\n",
       "      <td>-77.545801</td>\n",
       "      <td>39.125919</td>\n",
       "      <td>florists</td>\n",
       "    </tr>\n",
       "    <tr>\n",
       "      <th>4</th>\n",
       "      <td>Springvale Floral</td>\n",
       "      <td>5.0</td>\n",
       "      <td>NaN</td>\n",
       "      <td>4</td>\n",
       "      <td>None</td>\n",
       "      <td>False</td>\n",
       "      <td>4</td>\n",
       "      <td>[{'alias': 'floraldesigners', 'title': 'Floral...</td>\n",
       "      <td>Leesburg</td>\n",
       "      <td>1491.759497</td>\n",
       "      <td>-77.569520</td>\n",
       "      <td>39.112050</td>\n",
       "      <td>floraldesigners</td>\n",
       "    </tr>\n",
       "    <tr>\n",
       "      <th>5</th>\n",
       "      <td>House Of Redman</td>\n",
       "      <td>5.0</td>\n",
       "      <td>NaN</td>\n",
       "      <td>1</td>\n",
       "      <td>206 Loudoun St SW</td>\n",
       "      <td>False</td>\n",
       "      <td>1</td>\n",
       "      <td>[{'alias': 'florists', 'title': 'Florists'}, {...</td>\n",
       "      <td>Leesburg</td>\n",
       "      <td>1858.989002</td>\n",
       "      <td>-77.567840</td>\n",
       "      <td>39.115130</td>\n",
       "      <td>florists</td>\n",
       "    </tr>\n",
       "    <tr>\n",
       "      <th>6</th>\n",
       "      <td>Holly Heider Chapple Flowers</td>\n",
       "      <td>4.0</td>\n",
       "      <td>NaN</td>\n",
       "      <td>3</td>\n",
       "      <td>None</td>\n",
       "      <td>False</td>\n",
       "      <td>3</td>\n",
       "      <td>[{'alias': 'florists', 'title': 'Florists'}]</td>\n",
       "      <td>Leesburg</td>\n",
       "      <td>1491.759497</td>\n",
       "      <td>-77.566540</td>\n",
       "      <td>39.108480</td>\n",
       "      <td>florists</td>\n",
       "    </tr>\n",
       "    <tr>\n",
       "      <th>8</th>\n",
       "      <td>Wild Green Yonder</td>\n",
       "      <td>5.0</td>\n",
       "      <td>NaN</td>\n",
       "      <td>2</td>\n",
       "      <td>106 Loudoun St SW</td>\n",
       "      <td>False</td>\n",
       "      <td>2</td>\n",
       "      <td>[{'alias': 'floraldesigners', 'title': 'Floral...</td>\n",
       "      <td>Leesburg</td>\n",
       "      <td>1773.476827</td>\n",
       "      <td>-77.566845</td>\n",
       "      <td>39.114899</td>\n",
       "      <td>floraldesigners</td>\n",
       "    </tr>\n",
       "    <tr>\n",
       "      <th>11</th>\n",
       "      <td>Affordable Arrangements</td>\n",
       "      <td>5.0</td>\n",
       "      <td>NaN</td>\n",
       "      <td>2</td>\n",
       "      <td></td>\n",
       "      <td>False</td>\n",
       "      <td>2</td>\n",
       "      <td>[{'alias': 'floraldesigners', 'title': 'Floral...</td>\n",
       "      <td>Leesburg</td>\n",
       "      <td>1491.759497</td>\n",
       "      <td>-77.569405</td>\n",
       "      <td>39.110386</td>\n",
       "      <td>floraldesigners</td>\n",
       "    </tr>\n",
       "  </tbody>\n",
       "</table>\n",
       "</div>"
      ],
      "text/plain": [
       "                            name  rating  pricing  num_reviews  \\\n",
       "0               Loudoun D Floral     4.5      2.0           16   \n",
       "1               J Morris Flowers     4.0      3.0           27   \n",
       "2             CPK Floral Designs     5.0      NaN           13   \n",
       "3        Jerry's Flowers & Gifts     4.0      2.0           22   \n",
       "4              Springvale Floral     5.0      NaN            4   \n",
       "5                House Of Redman     5.0      NaN            1   \n",
       "6   Holly Heider Chapple Flowers     4.0      NaN            3   \n",
       "8              Wild Green Yonder     5.0      NaN            2   \n",
       "11       Affordable Arrangements     5.0      NaN            2   \n",
       "\n",
       "          street_address  is_closed  review_count  \\\n",
       "0                             False            16   \n",
       "1     120 East Market St      False            27   \n",
       "2                   None      False            13   \n",
       "3   700 Fieldstone Dr NE      False            22   \n",
       "4                   None      False             4   \n",
       "5      206 Loudoun St SW      False             1   \n",
       "6                   None      False             3   \n",
       "8      106 Loudoun St SW      False             2   \n",
       "11                            False             2   \n",
       "\n",
       "                                           categories      city     distance  \\\n",
       "0        [{'alias': 'florists', 'title': 'Florists'}]  Leesburg  1491.759497   \n",
       "1        [{'alias': 'florists', 'title': 'Florists'}]  Leesburg  1314.094845   \n",
       "2   [{'alias': 'florists', 'title': 'Florists'}, {...  Leesburg  1491.759497   \n",
       "3        [{'alias': 'florists', 'title': 'Florists'}]  Leesburg  1147.831498   \n",
       "4   [{'alias': 'floraldesigners', 'title': 'Floral...  Leesburg  1491.759497   \n",
       "5   [{'alias': 'florists', 'title': 'Florists'}, {...  Leesburg  1858.989002   \n",
       "6        [{'alias': 'florists', 'title': 'Florists'}]  Leesburg  1491.759497   \n",
       "8   [{'alias': 'floraldesigners', 'title': 'Floral...  Leesburg  1773.476827   \n",
       "11  [{'alias': 'floraldesigners', 'title': 'Floral...  Leesburg  1491.759497   \n",
       "\n",
       "    longitude   latitude            alias  \n",
       "0  -77.534730  39.130220         florists  \n",
       "1  -77.561445  39.114299         florists  \n",
       "2  -77.531944  39.119907         florists  \n",
       "3  -77.545801  39.125919         florists  \n",
       "4  -77.569520  39.112050  floraldesigners  \n",
       "5  -77.567840  39.115130         florists  \n",
       "6  -77.566540  39.108480         florists  \n",
       "8  -77.566845  39.114899  floraldesigners  \n",
       "11 -77.569405  39.110386  floraldesigners  "
      ]
     },
     "execution_count": 30,
     "metadata": {},
     "output_type": "execute_result"
    }
   ],
   "source": [
    "lbdf"
   ]
  },
  {
   "cell_type": "markdown",
   "metadata": {},
   "source": [
    "## Analysis"
   ]
  },
  {
   "cell_type": "code",
   "execution_count": 31,
   "metadata": {},
   "outputs": [
    {
     "name": "stdout",
     "output_type": "stream",
     "text": [
      "<class 'pandas.core.frame.DataFrame'>\n",
      "Int64Index: 10 entries, 0 to 13\n",
      "Data columns (total 13 columns):\n",
      " #   Column          Non-Null Count  Dtype  \n",
      "---  ------          --------------  -----  \n",
      " 0   name            10 non-null     object \n",
      " 1   rating          10 non-null     float64\n",
      " 2   pricing         5 non-null      float64\n",
      " 3   num_reviews     10 non-null     int64  \n",
      " 4   street_address  9 non-null      object \n",
      " 5   is_closed       10 non-null     bool   \n",
      " 6   review_count    10 non-null     int64  \n",
      " 7   categories      10 non-null     object \n",
      " 8   city            10 non-null     object \n",
      " 9   distance        10 non-null     float64\n",
      " 10  longitude       10 non-null     float64\n",
      " 11  latitude        10 non-null     float64\n",
      " 12  alias           10 non-null     object \n",
      "dtypes: bool(1), float64(5), int64(2), object(5)\n",
      "memory usage: 1.0+ KB\n"
     ]
    }
   ],
   "source": [
    "# Pull basic info on df\n",
    "ssdf.info()"
   ]
  },
  {
   "cell_type": "code",
   "execution_count": 32,
   "metadata": {},
   "outputs": [
    {
     "name": "stdout",
     "output_type": "stream",
     "text": [
      "<class 'pandas.core.frame.DataFrame'>\n",
      "Int64Index: 9 entries, 0 to 11\n",
      "Data columns (total 13 columns):\n",
      " #   Column          Non-Null Count  Dtype  \n",
      "---  ------          --------------  -----  \n",
      " 0   name            9 non-null      object \n",
      " 1   rating          9 non-null      float64\n",
      " 2   pricing         3 non-null      float64\n",
      " 3   num_reviews     9 non-null      int64  \n",
      " 4   street_address  6 non-null      object \n",
      " 5   is_closed       9 non-null      bool   \n",
      " 6   review_count    9 non-null      int64  \n",
      " 7   categories      9 non-null      object \n",
      " 8   city            9 non-null      object \n",
      " 9   distance        9 non-null      float64\n",
      " 10  longitude       9 non-null      float64\n",
      " 11  latitude        9 non-null      float64\n",
      " 12  alias           9 non-null      object \n",
      "dtypes: bool(1), float64(5), int64(2), object(5)\n",
      "memory usage: 945.0+ bytes\n"
     ]
    }
   ],
   "source": [
    "# Pull basic info on df\n",
    "lbdf.info()"
   ]
  },
  {
   "cell_type": "code",
   "execution_count": 42,
   "metadata": {},
   "outputs": [
    {
     "data": {
      "text/plain": [
       "Text(0, 0.5, 'Percentage')"
      ]
     },
     "execution_count": 42,
     "metadata": {},
     "output_type": "execute_result"
    },
    {
     "data": {
      "image/png": "[encoded data removed]",
      "text/plain": [
       "<Figure size 720x360 with 1 Axes>"
      ]
     },
     "metadata": {
      "needs_background": "light"
     },
     "output_type": "display_data"
    }
   ],
   "source": [
    "# Plot distribution of Yelp Ratings by Percentage\n",
    "lbdf.rating.value_counts(normalize = True).mul(100).reindex([1, 1.5, 2, 2.5, 3, 3.5, 4, 4.5, 5]).plot(kind=\"bar\", figsize = (10,5), color = \"crimson\")\n",
    "plt.title(\"Distribution of Yelp Ratings in Leesburg, VA\")\n",
    "plt.xlabel(\"Yelp Ratings\")\n",
    "plt.ylabel(\"Percentage\")"
   ]
  },
  {
   "cell_type": "code",
   "execution_count": 41,
   "metadata": {},
   "outputs": [
    {
     "data": {
      "text/plain": [
       "Text(0, 0.5, 'Percentage')"
      ]
     },
     "execution_count": 41,
     "metadata": {},
     "output_type": "execute_result"
    },
    {
     "data": {
      "image/png": "[encoded data removed]",
      "text/plain": [
       "<Figure size 720x360 with 1 Axes>"
      ]
     },
     "metadata": {
      "needs_background": "light"
     },
     "output_type": "display_data"
    }
   ],
   "source": [
    "# Plot distribution of Yelp Ratings by Percentage\n",
    "ssdf.rating.value_counts(normalize = True).mul(100).reindex([1, 1.5, 2, 3, 3.5, 4, 4.5, 5]).plot(kind=\"bar\", figsize = (10,5), color = \"blue\")\n",
    "plt.title(\"Distribution of Yelp Ratings in Silver Spring, MD\")\n",
    "plt.xlabel(\"Yelp Ratings\")\n",
    "plt.ylabel(\"Percentage\")"
   ]
  },
  {
   "cell_type": "code",
   "execution_count": 45,
   "metadata": {},
   "outputs": [
    {
     "data": {
      "text/plain": [
       "Text(0, 0.5, 'Review Count')"
      ]
     },
     "execution_count": 45,
     "metadata": {},
     "output_type": "execute_result"
    },
    {
     "data": {
      "image/png": "[encoded data removed]",
      "text/plain": [
       "<Figure size 720x576 with 1 Axes>"
      ]
     },
     "metadata": {
      "needs_background": "light"
     },
     "output_type": "display_data"
    }
   ],
   "source": [
    "# Plot distribution of Yelp Ratings by count\n",
    "lbdf.plot.scatter(\"rating\", \"num_reviews\", figsize = (10,8), color = \"crimson\") \n",
    "plt.title(\"Distribution of Yelp Ratings in Leesburg, VA\")\n",
    "plt.xlabel(\"Yelp Ratings\")\n",
    "plt.ylabel(\"Review Count\")"
   ]
  },
  {
   "cell_type": "code",
   "execution_count": 47,
   "metadata": {},
   "outputs": [
    {
     "data": {
      "text/plain": [
       "Text(0, 0.5, 'Review Count')"
      ]
     },
     "execution_count": 47,
     "metadata": {},
     "output_type": "execute_result"
    },
    {
     "data": {
      "image/png": "[encoded data removed]",
      "text/plain": [
       "<Figure size 720x576 with 1 Axes>"
      ]
     },
     "metadata": {
      "needs_background": "light"
     },
     "output_type": "display_data"
    }
   ],
   "source": [
    "# Plot distribution of Yelp Ratings by count\n",
    "ssdf.plot.scatter(\"rating\", \"num_reviews\", figsize = (10,8), color = \"blue\") \n",
    "plt.title(\"Distribution of Yelp Ratings in Silver Spring, MD\")\n",
    "plt.xlabel(\"Yelp Ratings\")\n",
    "plt.ylabel(\"Review Count\")"
   ]
  },
  {
   "cell_type": "code",
   "execution_count": 57,
   "metadata": {},
   "outputs": [
    {
     "data": {
      "text/plain": [
       "<_io.TextIOWrapper name='Census_SS.csv' mode='r' encoding='cp1252'>"
      ]
     },
     "execution_count": 57,
     "metadata": {},
     "output_type": "execute_result"
    }
   ],
   "source": [
    "# Create variable for Census csv\n",
    "census_ss = open('Census_SS.csv')\n",
    "census_ss"
   ]
  },
  {
   "cell_type": "code",
   "execution_count": 4,
   "metadata": {},
   "outputs": [
    {
     "data": {
      "text/plain": [
       "'\"Population, Census, April 1, 2020\",\"\",\"81,015\",\"\"\\n'"
      ]
     },
     "execution_count": 4,
     "metadata": {},
     "output_type": "execute_result"
    }
   ],
   "source": [
    "# Silver Spring population from US Census B.\n",
    "ss_lst = open('Census_SS.csv').readlines()\n",
    "ss_lst[4]"
   ]
  },
  {
   "cell_type": "code",
   "execution_count": 2,
   "metadata": {},
   "outputs": [
    {
     "data": {
      "text/plain": [
       "'\"Population estimates, July 1, 2019,  (V2019)\",\"\",\"53,727\",\"\"\\n'"
      ]
     },
     "execution_count": 2,
     "metadata": {},
     "output_type": "execute_result"
    }
   ],
   "source": [
    "# Leesburg population from US Census B.\n",
    "lb_lst = open('Census_LB.csv').readlines()\n",
    "lb_lst[1]"
   ]
  },
  {
   "cell_type": "code",
   "execution_count": 9,
   "metadata": {},
   "outputs": [
    {
     "data": {
      "text/plain": [
       "'\"Population, Census, April 1, 2020\",\"\",\"81,015\",\"\"\\n'"
      ]
     },
     "execution_count": 9,
     "metadata": {},
     "output_type": "execute_result"
    }
   ],
   "source": [
    "# Flower shop per capita Silver Spring\n",
    "per_cap_ss = 81,015 // ssdf.count\n",
    "print per_cap_ss \"per capita in Silver Spring, MD\""
   ]
  },
  {
   "cell_type": "code",
   "execution_count": null,
   "metadata": {},
   "outputs": [],
   "source": [
    "# Flower shop per capita Leesburg\n",
    "per_cap_lb = 53,727 // lbdf.count\n",
    "print per_cap_lb \"per capita in Leesburg, VA\""
   ]
  },
  {
   "cell_type": "code",
   "execution_count": 11,
   "metadata": {},
   "outputs": [
    {
     "data": {
      "text/plain": [
       "'\"Per capita income in past 12 months (in 2019 dollars), 2015-2019\",\"\",\"$43,920\",\"\"\\n'"
      ]
     },
     "execution_count": 11,
     "metadata": {},
     "output_type": "execute_result"
    }
   ],
   "source": [
    "# Average income from Silver Spring\n",
    "ss_lst[46]"
   ]
  },
  {
   "cell_type": "code",
   "execution_count": 12,
   "metadata": {},
   "outputs": [
    {
     "data": {
      "text/plain": [
       "'\"Per capita income in past 12 months (in 2019 dollars), 2015-2019\",\"\",\"$48,427\",\"\"\\n'"
      ]
     },
     "execution_count": 12,
     "metadata": {},
     "output_type": "execute_result"
    }
   ],
   "source": [
    "# Average income from Leesburg\n",
    "lb_lst[46]"
   ]
  },
  {
   "cell_type": "code",
   "execution_count": 16,
   "metadata": {},
   "outputs": [
    {
     "data": {
      "text/plain": [
       "'\"Persons under 5 years, percent\",\"\",\"6.5%\",\"\"\\n'"
      ]
     },
     "execution_count": 16,
     "metadata": {},
     "output_type": "execute_result"
    }
   ],
   "source": [
    "# Average age from each city\n",
    "lb_lst[8]\n",
    "lb_lst[7]"
   ]
  },
  {
   "cell_type": "code",
   "execution_count": null,
   "metadata": {},
   "outputs": [],
   "source": [
    "# Flower buyer demographic info?"
   ]
  },
  {
   "cell_type": "code",
   "execution_count": null,
   "metadata": {},
   "outputs": [],
   "source": []
  },
  {
   "cell_type": "code",
   "execution_count": null,
   "metadata": {},
   "outputs": [],
   "source": []
  },
  {
   "cell_type": "code",
   "execution_count": null,
   "metadata": {},
   "outputs": [],
   "source": []
  },
  {
   "cell_type": "code",
   "execution_count": null,
   "metadata": {},
   "outputs": [],
   "source": []
  },
  {
   "cell_type": "markdown",
   "metadata": {},
   "source": [
    "## Maps"
   ]
  },
  {
   "cell_type": "code",
   "execution_count": 53,
   "metadata": {},
   "outputs": [
    {
     "data": {
      "text/html": [
       "<div style=\"width:100%;\"><div style=\"position:relative;width:100%;height:0;padding-bottom:60%;\"><span style=\"color:#565656\">Make this Notebook Trusted to load map: File -> Trust Notebook</span><iframe src=\"about:blank\" style=\"position:absolute;width:100%;height:100%;left:0;top:0;border:none !important;\" data-html=%3C%21DOCTYPE%20html%3E%0A%3Chead%3E%20%20%20%20%0A%20%20%20%20%3Cmeta%20http-equiv%3D%22content-type%22%20content%3D%22text/html%3B%20charset%3DUTF-8%22%20/%3E%0A%20%20%20%20%0A%20%20%20%20%20%20%20%20%3Cscript%3E%0A%20%20%20%20%20%20%20%20%20%20%20%20L_NO_TOUCH%20%3D%20false%3B%0A%20%20%20%20%20%20%20%20%20%20%20%20L_DISABLE_3D%20%3D%20false%3B%0A%20%20%20%20%20%20%20%20%3C/script%3E%0A%20%20%20%20%0A%20%20%20%20%3Cstyle%3Ehtml%2C%20body%20%7Bwidth%3A%20100%25%3Bheight%3A%20100%25%3Bmargin%3A%200%3Bpadding%3A%200%3B%7D%3C/style%3E%0A%20%20%20%20%3Cstyle%3E%23map%20%7Bposition%3Aabsolute%3Btop%3A0%3Bbottom%3A0%3Bright%3A0%3Bleft%3A0%3B%7D%3C/style%3E%0A%20%20%20%20%3Cscript%20src%3D%22https%3A//cdn.jsdelivr.net/npm/leaflet%401.6.0/dist/leaflet.js%22%3E%3C/script%3E%0A%20%20%20%20%3Cscript%20src%3D%22https%3A//code.jquery.com/jquery-1.12.4.min.js%22%3E%3C/script%3E%0A%20%20%20%20%3Cscript%20src%3D%22https%3A//maxcdn.bootstrapcdn.com/bootstrap/3.2.0/js/bootstrap.min.js%22%3E%3C/script%3E%0A%20%20%20%20%3Cscript%20src%3D%22https%3A//cdnjs.cloudflare.com/ajax/libs/Leaflet.awesome-markers/2.0.2/leaflet.awesome-markers.js%22%3E%3C/script%3E%0A%20%20%20%20%3Clink%20rel%3D%22stylesheet%22%20href%3D%22https%3A//cdn.jsdelivr.net/npm/leaflet%401.6.0/dist/leaflet.css%22/%3E%0A%20%20%20%20%3Clink%20rel%3D%22stylesheet%22%20href%3D%22https%3A//maxcdn.bootstrapcdn.com/bootstrap/3.2.0/css/bootstrap.min.css%22/%3E%0A%20%20%20%20%3Clink%20rel%3D%22stylesheet%22%20href%3D%22https%3A//maxcdn.bootstrapcdn.com/bootstrap/3.2.0/css/bootstrap-theme.min.css%22/%3E%0A%20%20%20%20%3Clink%20rel%3D%22stylesheet%22%20href%3D%22https%3A//maxcdn.bootstrapcdn.com/font-awesome/4.6.3/css/font-awesome.min.css%22/%3E%0A%20%20%20%20%3Clink%20rel%3D%22stylesheet%22%20href%3D%22https%3A//cdnjs.cloudflare.com/ajax/libs/Leaflet.awesome-markers/2.0.2/leaflet.awesome-markers.css%22/%3E%0A%20%20%20%20%3Clink%20rel%3D%22stylesheet%22%20href%3D%22https%3A//cdn.jsdelivr.net/gh/python-visualization/folium/folium/templates/leaflet.awesome.rotate.min.css%22/%3E%0A%20%20%20%20%0A%20%20%20%20%20%20%20%20%20%20%20%20%3Cmeta%20name%3D%22viewport%22%20content%3D%22width%3Ddevice-width%2C%0A%20%20%20%20%20%20%20%20%20%20%20%20%20%20%20%20initial-scale%3D1.0%2C%20maximum-scale%3D1.0%2C%20user-scalable%3Dno%22%20/%3E%0A%20%20%20%20%20%20%20%20%20%20%20%20%3Cstyle%3E%0A%20%20%20%20%20%20%20%20%20%20%20%20%20%20%20%20%23map_bbd43188cc27460dbf60fdbc40afda53%20%7B%0A%20%20%20%20%20%20%20%20%20%20%20%20%20%20%20%20%20%20%20%20position%3A%20relative%3B%0A%20%20%20%20%20%20%20%20%20%20%20%20%20%20%20%20%20%20%20%20width%3A%20100.0%25%3B%0A%20%20%20%20%20%20%20%20%20%20%20%20%20%20%20%20%20%20%20%20height%3A%20100.0%25%3B%0A%20%20%20%20%20%20%20%20%20%20%20%20%20%20%20%20%20%20%20%20left%3A%200.0%25%3B%0A%20%20%20%20%20%20%20%20%20%20%20%20%20%20%20%20%20%20%20%20top%3A%200.0%25%3B%0A%20%20%20%20%20%20%20%20%20%20%20%20%20%20%20%20%7D%0A%20%20%20%20%20%20%20%20%20%20%20%20%3C/style%3E%0A%20%20%20%20%20%20%20%20%0A%3C/head%3E%0A%3Cbody%3E%20%20%20%20%0A%20%20%20%20%0A%20%20%20%20%20%20%20%20%20%20%20%20%3Cdiv%20class%3D%22folium-map%22%20id%3D%22map_bbd43188cc27460dbf60fdbc40afda53%22%20%3E%3C/div%3E%0A%20%20%20%20%20%20%20%20%0A%3C/body%3E%0A%3Cscript%3E%20%20%20%20%0A%20%20%20%20%0A%20%20%20%20%20%20%20%20%20%20%20%20var%20map_bbd43188cc27460dbf60fdbc40afda53%20%3D%20L.map%28%0A%20%20%20%20%20%20%20%20%20%20%20%20%20%20%20%20%22map_bbd43188cc27460dbf60fdbc40afda53%22%2C%0A%20%20%20%20%20%20%20%20%20%20%20%20%20%20%20%20%7B%0A%20%20%20%20%20%20%20%20%20%20%20%20%20%20%20%20%20%20%20%20center%3A%20%5B38.9%2C%20-77.03%5D%2C%0A%20%20%20%20%20%20%20%20%20%20%20%20%20%20%20%20%20%20%20%20crs%3A%20L.CRS.EPSG3857%2C%0A%20%20%20%20%20%20%20%20%20%20%20%20%20%20%20%20%20%20%20%20zoom%3A%2010%2C%0A%20%20%20%20%20%20%20%20%20%20%20%20%20%20%20%20%20%20%20%20zoomControl%3A%20true%2C%0A%20%20%20%20%20%20%20%20%20%20%20%20%20%20%20%20%20%20%20%20preferCanvas%3A%20false%2C%0A%20%20%20%20%20%20%20%20%20%20%20%20%20%20%20%20%7D%0A%20%20%20%20%20%20%20%20%20%20%20%20%29%3B%0A%0A%20%20%20%20%20%20%20%20%20%20%20%20%0A%0A%20%20%20%20%20%20%20%20%0A%20%20%20%20%0A%20%20%20%20%20%20%20%20%20%20%20%20var%20tile_layer_a4969560bb434acd827058910df7a012%20%3D%20L.tileLayer%28%0A%20%20%20%20%20%20%20%20%20%20%20%20%20%20%20%20%22https%3A//%7Bs%7D.tile.openstreetmap.org/%7Bz%7D/%7Bx%7D/%7By%7D.png%22%2C%0A%20%20%20%20%20%20%20%20%20%20%20%20%20%20%20%20%7B%22attribution%22%3A%20%22Data%20by%20%5Cu0026copy%3B%20%5Cu003ca%20href%3D%5C%22http%3A//openstreetmap.org%5C%22%5Cu003eOpenStreetMap%5Cu003c/a%5Cu003e%2C%20under%20%5Cu003ca%20href%3D%5C%22http%3A//www.openstreetmap.org/copyright%5C%22%5Cu003eODbL%5Cu003c/a%5Cu003e.%22%2C%20%22detectRetina%22%3A%20false%2C%20%22maxNativeZoom%22%3A%2018%2C%20%22maxZoom%22%3A%2018%2C%20%22minZoom%22%3A%200%2C%20%22noWrap%22%3A%20false%2C%20%22opacity%22%3A%201%2C%20%22subdomains%22%3A%20%22abc%22%2C%20%22tms%22%3A%20false%7D%0A%20%20%20%20%20%20%20%20%20%20%20%20%29.addTo%28map_bbd43188cc27460dbf60fdbc40afda53%29%3B%0A%20%20%20%20%20%20%20%20%0A%20%20%20%20%0A%20%20%20%20%20%20%20%20%20%20%20%20var%20circle_marker_dd6dbe0b15704244aa6fb99f7309e37b%20%3D%20L.circleMarker%28%0A%20%20%20%20%20%20%20%20%20%20%20%20%20%20%20%20%5B39.0030091782617%2C%20-77.052067077771%5D%2C%0A%20%20%20%20%20%20%20%20%20%20%20%20%20%20%20%20%7B%22bubblingMouseEvents%22%3A%20true%2C%20%22color%22%3A%20%22%233388ff%22%2C%20%22dashArray%22%3A%20null%2C%20%22dashOffset%22%3A%20null%2C%20%22fill%22%3A%20false%2C%20%22fillColor%22%3A%20%22%233388ff%22%2C%20%22fillOpacity%22%3A%200.2%2C%20%22fillRule%22%3A%20%22evenodd%22%2C%20%22lineCap%22%3A%20%22round%22%2C%20%22lineJoin%22%3A%20%22round%22%2C%20%22opacity%22%3A%201.0%2C%20%22radius%22%3A%2010%2C%20%22stroke%22%3A%20true%2C%20%22weight%22%3A%203%7D%0A%20%20%20%20%20%20%20%20%20%20%20%20%29.addTo%28map_bbd43188cc27460dbf60fdbc40afda53%29%3B%0A%20%20%20%20%20%20%20%20%0A%20%20%20%20%0A%20%20%20%20%20%20%20%20%20%20%20%20var%20circle_marker_d092e593026d4b48943ce8473324b987%20%3D%20L.circleMarker%28%0A%20%20%20%20%20%20%20%20%20%20%20%20%20%20%20%20%5B39.001541%2C%20-77.059157%5D%2C%0A%20%20%20%20%20%20%20%20%20%20%20%20%20%20%20%20%7B%22bubblingMouseEvents%22%3A%20true%2C%20%22color%22%3A%20%22%233388ff%22%2C%20%22dashArray%22%3A%20null%2C%20%22dashOffset%22%3A%20null%2C%20%22fill%22%3A%20false%2C%20%22fillColor%22%3A%20%22%233388ff%22%2C%20%22fillOpacity%22%3A%200.2%2C%20%22fillRule%22%3A%20%22evenodd%22%2C%20%22lineCap%22%3A%20%22round%22%2C%20%22lineJoin%22%3A%20%22round%22%2C%20%22opacity%22%3A%201.0%2C%20%22radius%22%3A%2010%2C%20%22stroke%22%3A%20true%2C%20%22weight%22%3A%203%7D%0A%20%20%20%20%20%20%20%20%20%20%20%20%29.addTo%28map_bbd43188cc27460dbf60fdbc40afda53%29%3B%0A%20%20%20%20%20%20%20%20%0A%20%20%20%20%0A%20%20%20%20%20%20%20%20%20%20%20%20var%20circle_marker_c0e1ef07a1864d9e888ef02e49fc2dd7%20%3D%20L.circleMarker%28%0A%20%20%20%20%20%20%20%20%20%20%20%20%20%20%20%20%5B39.0096488%2C%20-77.0503376%5D%2C%0A%20%20%20%20%20%20%20%20%20%20%20%20%20%20%20%20%7B%22bubblingMouseEvents%22%3A%20true%2C%20%22color%22%3A%20%22%233388ff%22%2C%20%22dashArray%22%3A%20null%2C%20%22dashOffset%22%3A%20null%2C%20%22fill%22%3A%20false%2C%20%22fillColor%22%3A%20%22%233388ff%22%2C%20%22fillOpacity%22%3A%200.2%2C%20%22fillRule%22%3A%20%22evenodd%22%2C%20%22lineCap%22%3A%20%22round%22%2C%20%22lineJoin%22%3A%20%22round%22%2C%20%22opacity%22%3A%201.0%2C%20%22radius%22%3A%2010%2C%20%22stroke%22%3A%20true%2C%20%22weight%22%3A%203%7D%0A%20%20%20%20%20%20%20%20%20%20%20%20%29.addTo%28map_bbd43188cc27460dbf60fdbc40afda53%29%3B%0A%20%20%20%20%20%20%20%20%0A%20%20%20%20%0A%20%20%20%20%20%20%20%20%20%20%20%20var%20circle_marker_4aa2ec220db8419a94b4c65492eecab0%20%3D%20L.circleMarker%28%0A%20%20%20%20%20%20%20%20%20%20%20%20%20%20%20%20%5B39.00329%2C%20-77.049093%5D%2C%0A%20%20%20%20%20%20%20%20%20%20%20%20%20%20%20%20%7B%22bubblingMouseEvents%22%3A%20true%2C%20%22color%22%3A%20%22%233388ff%22%2C%20%22dashArray%22%3A%20null%2C%20%22dashOffset%22%3A%20null%2C%20%22fill%22%3A%20false%2C%20%22fillColor%22%3A%20%22%233388ff%22%2C%20%22fillOpacity%22%3A%200.2%2C%20%22fillRule%22%3A%20%22evenodd%22%2C%20%22lineCap%22%3A%20%22round%22%2C%20%22lineJoin%22%3A%20%22round%22%2C%20%22opacity%22%3A%201.0%2C%20%22radius%22%3A%2010%2C%20%22stroke%22%3A%20true%2C%20%22weight%22%3A%203%7D%0A%20%20%20%20%20%20%20%20%20%20%20%20%29.addTo%28map_bbd43188cc27460dbf60fdbc40afda53%29%3B%0A%20%20%20%20%20%20%20%20%0A%20%20%20%20%0A%20%20%20%20%20%20%20%20%20%20%20%20var%20circle_marker_ced4274c0a554f7cbf022e982609d032%20%3D%20L.circleMarker%28%0A%20%20%20%20%20%20%20%20%20%20%20%20%20%20%20%20%5B39.0018812943556%2C%20-77.0577786380471%5D%2C%0A%20%20%20%20%20%20%20%20%20%20%20%20%20%20%20%20%7B%22bubblingMouseEvents%22%3A%20true%2C%20%22color%22%3A%20%22%233388ff%22%2C%20%22dashArray%22%3A%20null%2C%20%22dashOffset%22%3A%20null%2C%20%22fill%22%3A%20false%2C%20%22fillColor%22%3A%20%22%233388ff%22%2C%20%22fillOpacity%22%3A%200.2%2C%20%22fillRule%22%3A%20%22evenodd%22%2C%20%22lineCap%22%3A%20%22round%22%2C%20%22lineJoin%22%3A%20%22round%22%2C%20%22opacity%22%3A%201.0%2C%20%22radius%22%3A%2010%2C%20%22stroke%22%3A%20true%2C%20%22weight%22%3A%203%7D%0A%20%20%20%20%20%20%20%20%20%20%20%20%29.addTo%28map_bbd43188cc27460dbf60fdbc40afda53%29%3B%0A%20%20%20%20%20%20%20%20%0A%20%20%20%20%0A%20%20%20%20%20%20%20%20%20%20%20%20var%20circle_marker_e01f734751034be3a448e24594fd16a4%20%3D%20L.circleMarker%28%0A%20%20%20%20%20%20%20%20%20%20%20%20%20%20%20%20%5B39.0547317%2C%20-76.9671692%5D%2C%0A%20%20%20%20%20%20%20%20%20%20%20%20%20%20%20%20%7B%22bubblingMouseEvents%22%3A%20true%2C%20%22color%22%3A%20%22%233388ff%22%2C%20%22dashArray%22%3A%20null%2C%20%22dashOffset%22%3A%20null%2C%20%22fill%22%3A%20false%2C%20%22fillColor%22%3A%20%22%233388ff%22%2C%20%22fillOpacity%22%3A%200.2%2C%20%22fillRule%22%3A%20%22evenodd%22%2C%20%22lineCap%22%3A%20%22round%22%2C%20%22lineJoin%22%3A%20%22round%22%2C%20%22opacity%22%3A%201.0%2C%20%22radius%22%3A%2010%2C%20%22stroke%22%3A%20true%2C%20%22weight%22%3A%203%7D%0A%20%20%20%20%20%20%20%20%20%20%20%20%29.addTo%28map_bbd43188cc27460dbf60fdbc40afda53%29%3B%0A%20%20%20%20%20%20%20%20%0A%20%20%20%20%0A%20%20%20%20%20%20%20%20%20%20%20%20var%20circle_marker_086dd0ecb05c443f946dde3267ae37d6%20%3D%20L.circleMarker%28%0A%20%20%20%20%20%20%20%20%20%20%20%20%20%20%20%20%5B38.99668%2C%20-77.02887%5D%2C%0A%20%20%20%20%20%20%20%20%20%20%20%20%20%20%20%20%7B%22bubblingMouseEvents%22%3A%20true%2C%20%22color%22%3A%20%22%233388ff%22%2C%20%22dashArray%22%3A%20null%2C%20%22dashOffset%22%3A%20null%2C%20%22fill%22%3A%20false%2C%20%22fillColor%22%3A%20%22%233388ff%22%2C%20%22fillOpacity%22%3A%200.2%2C%20%22fillRule%22%3A%20%22evenodd%22%2C%20%22lineCap%22%3A%20%22round%22%2C%20%22lineJoin%22%3A%20%22round%22%2C%20%22opacity%22%3A%201.0%2C%20%22radius%22%3A%2010%2C%20%22stroke%22%3A%20true%2C%20%22weight%22%3A%203%7D%0A%20%20%20%20%20%20%20%20%20%20%20%20%29.addTo%28map_bbd43188cc27460dbf60fdbc40afda53%29%3B%0A%20%20%20%20%20%20%20%20%0A%20%20%20%20%0A%20%20%20%20%20%20%20%20%20%20%20%20var%20circle_marker_b76147eefe524b9c88a3ebb5f62f7eea%20%3D%20L.circleMarker%28%0A%20%20%20%20%20%20%20%20%20%20%20%20%20%20%20%20%5B38.9995785759709%2C%20-77.0038732019198%5D%2C%0A%20%20%20%20%20%20%20%20%20%20%20%20%20%20%20%20%7B%22bubblingMouseEvents%22%3A%20true%2C%20%22color%22%3A%20%22%233388ff%22%2C%20%22dashArray%22%3A%20null%2C%20%22dashOffset%22%3A%20null%2C%20%22fill%22%3A%20false%2C%20%22fillColor%22%3A%20%22%233388ff%22%2C%20%22fillOpacity%22%3A%200.2%2C%20%22fillRule%22%3A%20%22evenodd%22%2C%20%22lineCap%22%3A%20%22round%22%2C%20%22lineJoin%22%3A%20%22round%22%2C%20%22opacity%22%3A%201.0%2C%20%22radius%22%3A%2010%2C%20%22stroke%22%3A%20true%2C%20%22weight%22%3A%203%7D%0A%20%20%20%20%20%20%20%20%20%20%20%20%29.addTo%28map_bbd43188cc27460dbf60fdbc40afda53%29%3B%0A%20%20%20%20%20%20%20%20%0A%20%20%20%20%0A%20%20%20%20%20%20%20%20%20%20%20%20var%20circle_marker_ca4cfcc616fd473d86800497a67060ff%20%3D%20L.circleMarker%28%0A%20%20%20%20%20%20%20%20%20%20%20%20%20%20%20%20%5B39.002958%2C%20-77.050319%5D%2C%0A%20%20%20%20%20%20%20%20%20%20%20%20%20%20%20%20%7B%22bubblingMouseEvents%22%3A%20true%2C%20%22color%22%3A%20%22%233388ff%22%2C%20%22dashArray%22%3A%20null%2C%20%22dashOffset%22%3A%20null%2C%20%22fill%22%3A%20false%2C%20%22fillColor%22%3A%20%22%233388ff%22%2C%20%22fillOpacity%22%3A%200.2%2C%20%22fillRule%22%3A%20%22evenodd%22%2C%20%22lineCap%22%3A%20%22round%22%2C%20%22lineJoin%22%3A%20%22round%22%2C%20%22opacity%22%3A%201.0%2C%20%22radius%22%3A%2010%2C%20%22stroke%22%3A%20true%2C%20%22weight%22%3A%203%7D%0A%20%20%20%20%20%20%20%20%20%20%20%20%29.addTo%28map_bbd43188cc27460dbf60fdbc40afda53%29%3B%0A%20%20%20%20%20%20%20%20%0A%20%20%20%20%0A%20%20%20%20%20%20%20%20%20%20%20%20var%20circle_marker_62008146eaca4d3c9d35a43073327dde%20%3D%20L.circleMarker%28%0A%20%20%20%20%20%20%20%20%20%20%20%20%20%20%20%20%5B39.069223%2C%20-76.94592%5D%2C%0A%20%20%20%20%20%20%20%20%20%20%20%20%20%20%20%20%7B%22bubblingMouseEvents%22%3A%20true%2C%20%22color%22%3A%20%22%233388ff%22%2C%20%22dashArray%22%3A%20null%2C%20%22dashOffset%22%3A%20null%2C%20%22fill%22%3A%20false%2C%20%22fillColor%22%3A%20%22%233388ff%22%2C%20%22fillOpacity%22%3A%200.2%2C%20%22fillRule%22%3A%20%22evenodd%22%2C%20%22lineCap%22%3A%20%22round%22%2C%20%22lineJoin%22%3A%20%22round%22%2C%20%22opacity%22%3A%201.0%2C%20%22radius%22%3A%2010%2C%20%22stroke%22%3A%20true%2C%20%22weight%22%3A%203%7D%0A%20%20%20%20%20%20%20%20%20%20%20%20%29.addTo%28map_bbd43188cc27460dbf60fdbc40afda53%29%3B%0A%20%20%20%20%20%20%20%20%0A%20%20%20%20%0A%20%20%20%20%20%20%20%20%20%20%20%20var%20circle_marker_6580316f391549708de381426d4b2424%20%3D%20L.circleMarker%28%0A%20%20%20%20%20%20%20%20%20%20%20%20%20%20%20%20%5B39.13022%2C%20-77.53473%5D%2C%0A%20%20%20%20%20%20%20%20%20%20%20%20%20%20%20%20%7B%22bubblingMouseEvents%22%3A%20true%2C%20%22color%22%3A%20%22crimson%22%2C%20%22dashArray%22%3A%20null%2C%20%22dashOffset%22%3A%20null%2C%20%22fill%22%3A%20false%2C%20%22fillColor%22%3A%20%22crimson%22%2C%20%22fillOpacity%22%3A%200.2%2C%20%22fillRule%22%3A%20%22evenodd%22%2C%20%22lineCap%22%3A%20%22round%22%2C%20%22lineJoin%22%3A%20%22round%22%2C%20%22opacity%22%3A%201.0%2C%20%22radius%22%3A%2010%2C%20%22stroke%22%3A%20true%2C%20%22weight%22%3A%203%7D%0A%20%20%20%20%20%20%20%20%20%20%20%20%29.addTo%28map_bbd43188cc27460dbf60fdbc40afda53%29%3B%0A%20%20%20%20%20%20%20%20%0A%20%20%20%20%0A%20%20%20%20%20%20%20%20%20%20%20%20var%20circle_marker_18f1458dbfff472f8ef6dd7bf16d3711%20%3D%20L.circleMarker%28%0A%20%20%20%20%20%20%20%20%20%20%20%20%20%20%20%20%5B39.1142987%2C%20-77.5614448%5D%2C%0A%20%20%20%20%20%20%20%20%20%20%20%20%20%20%20%20%7B%22bubblingMouseEvents%22%3A%20true%2C%20%22color%22%3A%20%22crimson%22%2C%20%22dashArray%22%3A%20null%2C%20%22dashOffset%22%3A%20null%2C%20%22fill%22%3A%20false%2C%20%22fillColor%22%3A%20%22crimson%22%2C%20%22fillOpacity%22%3A%200.2%2C%20%22fillRule%22%3A%20%22evenodd%22%2C%20%22lineCap%22%3A%20%22round%22%2C%20%22lineJoin%22%3A%20%22round%22%2C%20%22opacity%22%3A%201.0%2C%20%22radius%22%3A%2010%2C%20%22stroke%22%3A%20true%2C%20%22weight%22%3A%203%7D%0A%20%20%20%20%20%20%20%20%20%20%20%20%29.addTo%28map_bbd43188cc27460dbf60fdbc40afda53%29%3B%0A%20%20%20%20%20%20%20%20%0A%20%20%20%20%0A%20%20%20%20%20%20%20%20%20%20%20%20var%20circle_marker_f1af072896844b7a9b9560d68a22d795%20%3D%20L.circleMarker%28%0A%20%20%20%20%20%20%20%20%20%20%20%20%20%20%20%20%5B39.1199073791504%2C%20-77.5319442749023%5D%2C%0A%20%20%20%20%20%20%20%20%20%20%20%20%20%20%20%20%7B%22bubblingMouseEvents%22%3A%20true%2C%20%22color%22%3A%20%22crimson%22%2C%20%22dashArray%22%3A%20null%2C%20%22dashOffset%22%3A%20null%2C%20%22fill%22%3A%20false%2C%20%22fillColor%22%3A%20%22crimson%22%2C%20%22fillOpacity%22%3A%200.2%2C%20%22fillRule%22%3A%20%22evenodd%22%2C%20%22lineCap%22%3A%20%22round%22%2C%20%22lineJoin%22%3A%20%22round%22%2C%20%22opacity%22%3A%201.0%2C%20%22radius%22%3A%2010%2C%20%22stroke%22%3A%20true%2C%20%22weight%22%3A%203%7D%0A%20%20%20%20%20%20%20%20%20%20%20%20%29.addTo%28map_bbd43188cc27460dbf60fdbc40afda53%29%3B%0A%20%20%20%20%20%20%20%20%0A%20%20%20%20%0A%20%20%20%20%20%20%20%20%20%20%20%20var%20circle_marker_e748801be2bb40ee8999b43ed06ee04b%20%3D%20L.circleMarker%28%0A%20%20%20%20%20%20%20%20%20%20%20%20%20%20%20%20%5B39.125919%2C%20-77.545801%5D%2C%0A%20%20%20%20%20%20%20%20%20%20%20%20%20%20%20%20%7B%22bubblingMouseEvents%22%3A%20true%2C%20%22color%22%3A%20%22crimson%22%2C%20%22dashArray%22%3A%20null%2C%20%22dashOffset%22%3A%20null%2C%20%22fill%22%3A%20false%2C%20%22fillColor%22%3A%20%22crimson%22%2C%20%22fillOpacity%22%3A%200.2%2C%20%22fillRule%22%3A%20%22evenodd%22%2C%20%22lineCap%22%3A%20%22round%22%2C%20%22lineJoin%22%3A%20%22round%22%2C%20%22opacity%22%3A%201.0%2C%20%22radius%22%3A%2010%2C%20%22stroke%22%3A%20true%2C%20%22weight%22%3A%203%7D%0A%20%20%20%20%20%20%20%20%20%20%20%20%29.addTo%28map_bbd43188cc27460dbf60fdbc40afda53%29%3B%0A%20%20%20%20%20%20%20%20%0A%20%20%20%20%0A%20%20%20%20%20%20%20%20%20%20%20%20var%20circle_marker_3c9a642dc4ff412d8e41264bf0fb4877%20%3D%20L.circleMarker%28%0A%20%20%20%20%20%20%20%20%20%20%20%20%20%20%20%20%5B39.11205%2C%20-77.56952%5D%2C%0A%20%20%20%20%20%20%20%20%20%20%20%20%20%20%20%20%7B%22bubblingMouseEvents%22%3A%20true%2C%20%22color%22%3A%20%22crimson%22%2C%20%22dashArray%22%3A%20null%2C%20%22dashOffset%22%3A%20null%2C%20%22fill%22%3A%20false%2C%20%22fillColor%22%3A%20%22crimson%22%2C%20%22fillOpacity%22%3A%200.2%2C%20%22fillRule%22%3A%20%22evenodd%22%2C%20%22lineCap%22%3A%20%22round%22%2C%20%22lineJoin%22%3A%20%22round%22%2C%20%22opacity%22%3A%201.0%2C%20%22radius%22%3A%2010%2C%20%22stroke%22%3A%20true%2C%20%22weight%22%3A%203%7D%0A%20%20%20%20%20%20%20%20%20%20%20%20%29.addTo%28map_bbd43188cc27460dbf60fdbc40afda53%29%3B%0A%20%20%20%20%20%20%20%20%0A%20%20%20%20%0A%20%20%20%20%20%20%20%20%20%20%20%20var%20circle_marker_c44f321e616e459cae29b67ef77f03a4%20%3D%20L.circleMarker%28%0A%20%20%20%20%20%20%20%20%20%20%20%20%20%20%20%20%5B39.11513%2C%20-77.56784%5D%2C%0A%20%20%20%20%20%20%20%20%20%20%20%20%20%20%20%20%7B%22bubblingMouseEvents%22%3A%20true%2C%20%22color%22%3A%20%22crimson%22%2C%20%22dashArray%22%3A%20null%2C%20%22dashOffset%22%3A%20null%2C%20%22fill%22%3A%20false%2C%20%22fillColor%22%3A%20%22crimson%22%2C%20%22fillOpacity%22%3A%200.2%2C%20%22fillRule%22%3A%20%22evenodd%22%2C%20%22lineCap%22%3A%20%22round%22%2C%20%22lineJoin%22%3A%20%22round%22%2C%20%22opacity%22%3A%201.0%2C%20%22radius%22%3A%2010%2C%20%22stroke%22%3A%20true%2C%20%22weight%22%3A%203%7D%0A%20%20%20%20%20%20%20%20%20%20%20%20%29.addTo%28map_bbd43188cc27460dbf60fdbc40afda53%29%3B%0A%20%20%20%20%20%20%20%20%0A%20%20%20%20%0A%20%20%20%20%20%20%20%20%20%20%20%20var%20circle_marker_0c74921ca02d45fd8d351ac524b4e537%20%3D%20L.circleMarker%28%0A%20%20%20%20%20%20%20%20%20%20%20%20%20%20%20%20%5B39.10848%2C%20-77.56654%5D%2C%0A%20%20%20%20%20%20%20%20%20%20%20%20%20%20%20%20%7B%22bubblingMouseEvents%22%3A%20true%2C%20%22color%22%3A%20%22crimson%22%2C%20%22dashArray%22%3A%20null%2C%20%22dashOffset%22%3A%20null%2C%20%22fill%22%3A%20false%2C%20%22fillColor%22%3A%20%22crimson%22%2C%20%22fillOpacity%22%3A%200.2%2C%20%22fillRule%22%3A%20%22evenodd%22%2C%20%22lineCap%22%3A%20%22round%22%2C%20%22lineJoin%22%3A%20%22round%22%2C%20%22opacity%22%3A%201.0%2C%20%22radius%22%3A%2010%2C%20%22stroke%22%3A%20true%2C%20%22weight%22%3A%203%7D%0A%20%20%20%20%20%20%20%20%20%20%20%20%29.addTo%28map_bbd43188cc27460dbf60fdbc40afda53%29%3B%0A%20%20%20%20%20%20%20%20%0A%20%20%20%20%0A%20%20%20%20%20%20%20%20%20%20%20%20var%20circle_marker_fe62432585d0495ba2c280cc8f3950d4%20%3D%20L.circleMarker%28%0A%20%20%20%20%20%20%20%20%20%20%20%20%20%20%20%20%5B39.1148988%2C%20-77.5668451%5D%2C%0A%20%20%20%20%20%20%20%20%20%20%20%20%20%20%20%20%7B%22bubblingMouseEvents%22%3A%20true%2C%20%22color%22%3A%20%22crimson%22%2C%20%22dashArray%22%3A%20null%2C%20%22dashOffset%22%3A%20null%2C%20%22fill%22%3A%20false%2C%20%22fillColor%22%3A%20%22crimson%22%2C%20%22fillOpacity%22%3A%200.2%2C%20%22fillRule%22%3A%20%22evenodd%22%2C%20%22lineCap%22%3A%20%22round%22%2C%20%22lineJoin%22%3A%20%22round%22%2C%20%22opacity%22%3A%201.0%2C%20%22radius%22%3A%2010%2C%20%22stroke%22%3A%20true%2C%20%22weight%22%3A%203%7D%0A%20%20%20%20%20%20%20%20%20%20%20%20%29.addTo%28map_bbd43188cc27460dbf60fdbc40afda53%29%3B%0A%20%20%20%20%20%20%20%20%0A%20%20%20%20%0A%20%20%20%20%20%20%20%20%20%20%20%20var%20circle_marker_12420740b7734bf8abd2879254005827%20%3D%20L.circleMarker%28%0A%20%20%20%20%20%20%20%20%20%20%20%20%20%20%20%20%5B39.1103858947754%2C%20-77.5694046020508%5D%2C%0A%20%20%20%20%20%20%20%20%20%20%20%20%20%20%20%20%7B%22bubblingMouseEvents%22%3A%20true%2C%20%22color%22%3A%20%22crimson%22%2C%20%22dashArray%22%3A%20null%2C%20%22dashOffset%22%3A%20null%2C%20%22fill%22%3A%20false%2C%20%22fillColor%22%3A%20%22crimson%22%2C%20%22fillOpacity%22%3A%200.2%2C%20%22fillRule%22%3A%20%22evenodd%22%2C%20%22lineCap%22%3A%20%22round%22%2C%20%22lineJoin%22%3A%20%22round%22%2C%20%22opacity%22%3A%201.0%2C%20%22radius%22%3A%2010%2C%20%22stroke%22%3A%20true%2C%20%22weight%22%3A%203%7D%0A%20%20%20%20%20%20%20%20%20%20%20%20%29.addTo%28map_bbd43188cc27460dbf60fdbc40afda53%29%3B%0A%20%20%20%20%20%20%20%20%0A%3C/script%3E onload=\"this.contentDocument.open();this.contentDocument.write(    decodeURIComponent(this.getAttribute('data-html')));this.contentDocument.close();\" allowfullscreen webkitallowfullscreen mozallowfullscreen></iframe></div></div>"
      ],
      "text/plain": [
       "<folium.folium.Map at 0x145038aebe0>"
      ]
     },
     "execution_count": 53,
     "metadata": {},
     "output_type": "execute_result"
    }
   ],
   "source": [
    "\n",
    "\n",
    "map_ss = folium.Map(location=[38.90, -77.03], zoom_start=10)\n",
    "ssdf.apply(lambda row:folium.CircleMarker(location=[row[\"latitude\"], \n",
    "                                                  row[\"longitude\"]]).add_to(map_ss),\n",
    "     axis=1)\n",
    "\n",
    "lbdf.apply(lambda row:folium.CircleMarker(location=[row[\"latitude\"],\n",
    "                                                  row[\"longitude\"]], color=\"crimson\").add_to(map_ss),\n",
    "     axis=1)\n",
    "\n",
    "\n",
    "\n",
    "map_ss"
   ]
  },
  {
   "cell_type": "code",
   "execution_count": 71,
   "metadata": {},
   "outputs": [],
   "source": [
    "# Point maps for each city"
   ]
  },
  {
   "cell_type": "code",
   "execution_count": null,
   "metadata": {},
   "outputs": [],
   "source": [
    "# Population heat map"
   ]
  },
  {
   "cell_type": "code",
   "execution_count": null,
   "metadata": {},
   "outputs": [],
   "source": [
    "# Population head map plus point map (show who services who)"
   ]
  },
  {
   "cell_type": "code",
   "execution_count": null,
   "metadata": {},
   "outputs": [],
   "source": []
  },
  {
   "cell_type": "code",
   "execution_count": null,
   "metadata": {},
   "outputs": [],
   "source": []
  },
  {
   "cell_type": "markdown",
   "metadata": {},
   "source": [
    "## Decision"
   ]
  },
  {
   "cell_type": "markdown",
   "metadata": {},
   "source": []
  }
 ],
 "metadata": {
  "interpreter": {
   "hash": "dba4e39bde81d51a0d9c8c6f450212468c51e66449dcd8bec1436e8ac13e18af"
  },
  "kernelspec": {
   "display_name": "Python 3.8.8 64-bit ('base': conda)",
   "name": "python3"
  },
  "language_info": {
   "codemirror_mode": {
    "name": "ipython",
    "version": 3
   },
   "file_extension": ".py",
   "mimetype": "text/x-python",
   "name": "python",
   "nbconvert_exporter": "python",
   "pygments_lexer": "ipython3",
   "version": "3.8.8"
  },
  "orig_nbformat": 4
 },
 "nbformat": 4,
 "nbformat_minor": 2
}
