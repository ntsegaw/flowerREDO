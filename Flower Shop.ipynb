{
 "cells": [
  {
   "cell_type": "markdown",
   "metadata": {},
   "source": [
    "# Phase One Project UPDATE"
   ]
  },
  {
   "cell_type": "markdown",
   "metadata": {},
   "source": [
    "### Where to open a new flower shop... in Silver Spring, Maryland or Leesburg, Virginia?"
   ]
  },
  {
   "cell_type": "markdown",
   "metadata": {},
   "source": [
    "## Imports"
   ]
  },
  {
   "cell_type": "code",
   "execution_count": 36,
   "metadata": {},
   "outputs": [],
   "source": [
    "import requests\n",
    "import json\n",
    "import pandas as pd\n",
    "import numpy as np\n",
    "import os\n"
   ]
  },
  {
   "cell_type": "markdown",
   "metadata": {},
   "source": [
    "## Yelp API Call"
   ]
  },
  {
   "cell_type": "code",
   "execution_count": 6,
   "metadata": {},
   "outputs": [],
   "source": [
    "with open('api_key.txt') as f:\n",
    "    lines = f.read()\n",
    " #   print(lines)"
   ]
  },
  {
   "cell_type": "code",
   "execution_count": 7,
   "metadata": {},
   "outputs": [],
   "source": [
    "url = 'https://api.yelp.com/v3/businesses/search'\n",
    "key = lines\n",
    "headers = {\n",
    "    'Authorization': 'Bearer %s' % key\n",
    "}"
   ]
  },
  {
   "cell_type": "code",
   "execution_count": 8,
   "metadata": {},
   "outputs": [],
   "source": [
    "data = []\n",
    "for offset in range(0, 1000, 50):\n",
    "    url_params = {\n",
    "        'term': \"flower\",\n",
    "        'location': 'Silver Spring+MD',\n",
    "        'limit': 50,\n",
    "        'offset': offset,\n",
    "        \"radius\": 8047\n",
    "    }\n",
    "\n",
    "    response = requests.get(url, headers=headers, params=url_params)\n",
    "    if response.status_code == 200:\n",
    "        data += response.json()['businesses']\n",
    "\n",
    "    elif response.status_code == 400:\n",
    "            print('400 Bad Request')\n",
    "            break\n"
   ]
  },
  {
   "cell_type": "code",
   "execution_count": 9,
   "metadata": {},
   "outputs": [],
   "source": [
    "data2 = []\n",
    "for offset in range(0, 1000, 50):\n",
    "    url_params = {\n",
    "        'term': \"flower\",\n",
    "        'location': 'Leesburg+VA',\n",
    "        'limit': 50,\n",
    "        'offset': offset,\n",
    "        \"radius\": 8047\n",
    "    }\n",
    "\n",
    "    response = requests.get(url, headers=headers, params=url_params)\n",
    "    if response.status_code == 200:\n",
    "        data2 += response.json()['businesses']\n",
    "\n",
    "    elif response.status_code == 400:\n",
    "            print('400 Bad Request')\n",
    "            break\n"
   ]
  },
  {
   "cell_type": "markdown",
   "metadata": {},
   "source": [
    "## Clean Yelp Results"
   ]
  },
  {
   "cell_type": "code",
   "execution_count": 10,
   "metadata": {},
   "outputs": [],
   "source": [
    "def getbiz(params):\n",
    "    names = []\n",
    "    ratings = []\n",
    "    pricing = []\n",
    "    cnt = []\n",
    "    address = []\n",
    "    is_closed = []\n",
    "    review_count = []\n",
    "    categories = []\n",
    "    city = []\n",
    "    distance = []\n",
    "    longitude = []\n",
    "    latitude = []\n",
    "\n",
    "    for i in range(len(params)):\n",
    "        names.append(params[i]['name'])\n",
    "        ratings.append(params[i]['rating'])\n",
    "        address.append((params[i]['location']['address1']))\n",
    "        is_closed.append(params[i]['is_closed'])\n",
    "        review_count.append(params[i]['review_count'])\n",
    "        categories.append(params[i]['categories'])\n",
    "        city.append(params[i]['location']['city'])\n",
    "        distance.append(params[i]['distance'])\n",
    "        longitude.append(params[i]['coordinates']['longitude'])\n",
    "        latitude.append(params[i]['coordinates']['latitude'])\n",
    "        try:\n",
    "            [pricing.append(len(params[i]['price']))]\n",
    "        except:\n",
    "            pricing.append(None)\n",
    "        cnt.append(params[i]['review_count'])\n",
    "    biz = {'name': names, 'rating': ratings, 'pricing': pricing, 'num_reviews': cnt, 'street_address': address, \n",
    "            'is_closed': is_closed, 'review_count': review_count, 'categories': categories, 'city': city,\n",
    "            'distance': distance, 'longitude': longitude, 'latitude': latitude}\n",
    "\n",
    "\n",
    "    return pd.DataFrame(biz)"
   ]
  },
  {
   "cell_type": "code",
   "execution_count": 11,
   "metadata": {},
   "outputs": [],
   "source": [
    "ssdf = getbiz(data)\n",
    "lbdf = getbiz(data2)"
   ]
  },
  {
   "cell_type": "code",
   "execution_count": 12,
   "metadata": {},
   "outputs": [],
   "source": [
    "# Delete shops that are not within the respective cities\n",
    "ssdf = ssdf[ssdf.city == 'Silver Spring']\n",
    "lbdf = lbdf[lbdf.city == 'Leesburg']"
   ]
  },
  {
   "cell_type": "code",
   "execution_count": 13,
   "metadata": {},
   "outputs": [],
   "source": [
    "ssdf.reset_index(inplace = True)\n",
    "ssdf.drop('index', 1, inplace= True)"
   ]
  },
  {
   "cell_type": "code",
   "execution_count": 14,
   "metadata": {},
   "outputs": [],
   "source": [
    "lbdf.reset_index(inplace = True)\n",
    "lbdf.drop('index', 1, inplace= True)"
   ]
  },
  {
   "cell_type": "code",
   "execution_count": 15,
   "metadata": {},
   "outputs": [],
   "source": [
    "#Save cleaned data to CSV\n",
    "ssdf.to_csv('silver_spring.csv', encoding='utf-8', index=False)\n",
    "\n",
    "lbdf.to_csv('leesburg.csv', encoding='utf-8', index=False)"
   ]
  },
  {
   "cell_type": "code",
   "execution_count": 16,
   "metadata": {},
   "outputs": [],
   "source": [
    "def find_alias(params):\n",
    "    alias = []\n",
    "    for i in range(len(params)):\n",
    "        alias.append(params['categories'][i][0]['alias'])\n",
    "       # if params['categories'][i][0]['alias'] == '':\n",
    "        #    df.drop(params['categories'][i])\n",
    "    params['alias'] = alias"
   ]
  },
  {
   "cell_type": "code",
   "execution_count": 17,
   "metadata": {},
   "outputs": [],
   "source": [
    "find_alias(ssdf)"
   ]
  },
  {
   "cell_type": "code",
   "execution_count": 28,
   "metadata": {},
   "outputs": [],
   "source": [
    "find_alias(lbdf)"
   ]
  },
  {
   "cell_type": "code",
   "execution_count": 18,
   "metadata": {},
   "outputs": [],
   "source": [
    "#Find and destroy empty category\n",
    "lbdf = lbdf.dropna(subset=['categories'])"
   ]
  },
  {
   "cell_type": "code",
   "execution_count": 19,
   "metadata": {},
   "outputs": [],
   "source": [
    "#Find and destroy empty list\n",
    "lbdf = lbdf[lbdf['categories'].map(lambda d: len(d)) > 0]"
   ]
  },
  {
   "cell_type": "code",
   "execution_count": 20,
   "metadata": {},
   "outputs": [],
   "source": [
    "#FIND OUT HOW TO KEEP MULTI PURPOSE STORES (SECOND ALIAS)"
   ]
  },
  {
   "cell_type": "code",
   "execution_count": 29,
   "metadata": {},
   "outputs": [],
   "source": [
    "#Function to filter non-flowershops\n",
    "def flower_filter(params):\n",
    "    indexNames = params[(params['alias'] != 'florists') & (params['alias'] != 'floraldesigners') ].index\n",
    "    params.drop(indexNames, inplace=True)\n",
    "    return params"
   ]
  },
  {
   "cell_type": "code",
   "execution_count": 30,
   "metadata": {},
   "outputs": [],
   "source": [
    "lbdf = flower_filter(lbdf)\n",
    "ssdf = flower_filter(ssdf)"
   ]
  },
  {
   "cell_type": "code",
   "execution_count": 31,
   "metadata": {},
   "outputs": [
    {
     "data": {
      "text/html": [
       "<div>\n",
       "<style scoped>\n",
       "    .dataframe tbody tr th:only-of-type {\n",
       "        vertical-align: middle;\n",
       "    }\n",
       "\n",
       "    .dataframe tbody tr th {\n",
       "        vertical-align: top;\n",
       "    }\n",
       "\n",
       "    .dataframe thead th {\n",
       "        text-align: right;\n",
       "    }\n",
       "</style>\n",
       "<table border=\"1\" class=\"dataframe\">\n",
       "  <thead>\n",
       "    <tr style=\"text-align: right;\">\n",
       "      <th></th>\n",
       "      <th>name</th>\n",
       "      <th>rating</th>\n",
       "      <th>pricing</th>\n",
       "      <th>num_reviews</th>\n",
       "      <th>street_address</th>\n",
       "      <th>is_closed</th>\n",
       "      <th>review_count</th>\n",
       "      <th>categories</th>\n",
       "      <th>city</th>\n",
       "      <th>distance</th>\n",
       "      <th>longitude</th>\n",
       "      <th>latitude</th>\n",
       "      <th>alias</th>\n",
       "    </tr>\n",
       "  </thead>\n",
       "  <tbody>\n",
       "    <tr>\n",
       "      <th>0</th>\n",
       "      <td>Bell Flowers, Inc.</td>\n",
       "      <td>5.0</td>\n",
       "      <td>2.0</td>\n",
       "      <td>71</td>\n",
       "      <td>8947 Brookville Rd</td>\n",
       "      <td>False</td>\n",
       "      <td>71</td>\n",
       "      <td>[{'alias': 'florists', 'title': 'Florists'}]</td>\n",
       "      <td>Silver Spring</td>\n",
       "      <td>2972.202721</td>\n",
       "      <td>-77.052067</td>\n",
       "      <td>39.003009</td>\n",
       "      <td>florists</td>\n",
       "    </tr>\n",
       "    <tr>\n",
       "      <th>1</th>\n",
       "      <td>Danisa's Wholesale Fresh Flowers Inc</td>\n",
       "      <td>4.5</td>\n",
       "      <td>2.0</td>\n",
       "      <td>28</td>\n",
       "      <td>8870 Monard Dr</td>\n",
       "      <td>False</td>\n",
       "      <td>28</td>\n",
       "      <td>[{'alias': 'florists', 'title': 'Florists'}]</td>\n",
       "      <td>Silver Spring</td>\n",
       "      <td>3567.895819</td>\n",
       "      <td>-77.059157</td>\n",
       "      <td>39.001541</td>\n",
       "      <td>florists</td>\n",
       "    </tr>\n",
       "    <tr>\n",
       "      <th>2</th>\n",
       "      <td>Potomac Floral Wholesale</td>\n",
       "      <td>3.5</td>\n",
       "      <td>2.0</td>\n",
       "      <td>76</td>\n",
       "      <td>2403 Linden Ln</td>\n",
       "      <td>False</td>\n",
       "      <td>76</td>\n",
       "      <td>[{'alias': 'florists', 'title': 'Florists'}, {...</td>\n",
       "      <td>Silver Spring</td>\n",
       "      <td>3155.302144</td>\n",
       "      <td>-77.050338</td>\n",
       "      <td>39.009649</td>\n",
       "      <td>florists</td>\n",
       "    </tr>\n",
       "    <tr>\n",
       "      <th>4</th>\n",
       "      <td>Garden Vivien</td>\n",
       "      <td>5.0</td>\n",
       "      <td>NaN</td>\n",
       "      <td>2</td>\n",
       "      <td>2223 Kansas Ave</td>\n",
       "      <td>False</td>\n",
       "      <td>2</td>\n",
       "      <td>[{'alias': 'florists', 'title': 'Florists'}]</td>\n",
       "      <td>Silver Spring</td>\n",
       "      <td>2721.772142</td>\n",
       "      <td>-77.049093</td>\n",
       "      <td>39.003290</td>\n",
       "      <td>florists</td>\n",
       "    </tr>\n",
       "    <tr>\n",
       "      <th>5</th>\n",
       "      <td>Da Vinci's Florist</td>\n",
       "      <td>4.0</td>\n",
       "      <td>2.0</td>\n",
       "      <td>37</td>\n",
       "      <td>2756 Garfield Ave</td>\n",
       "      <td>False</td>\n",
       "      <td>37</td>\n",
       "      <td>[{'alias': 'florists', 'title': 'Florists'}, {...</td>\n",
       "      <td>Silver Spring</td>\n",
       "      <td>3451.436878</td>\n",
       "      <td>-77.057779</td>\n",
       "      <td>39.001881</td>\n",
       "      <td>florists</td>\n",
       "    </tr>\n",
       "    <tr>\n",
       "      <th>6</th>\n",
       "      <td>Creative Floral Designs</td>\n",
       "      <td>3.5</td>\n",
       "      <td>2.0</td>\n",
       "      <td>26</td>\n",
       "      <td>12158 Tech Rd</td>\n",
       "      <td>False</td>\n",
       "      <td>26</td>\n",
       "      <td>[{'alias': 'florists', 'title': 'Florists'}, {...</td>\n",
       "      <td>Silver Spring</td>\n",
       "      <td>7528.587951</td>\n",
       "      <td>-76.967169</td>\n",
       "      <td>39.054732</td>\n",
       "      <td>florists</td>\n",
       "    </tr>\n",
       "    <tr>\n",
       "      <th>8</th>\n",
       "      <td>Ella's Florals</td>\n",
       "      <td>5.0</td>\n",
       "      <td>NaN</td>\n",
       "      <td>4</td>\n",
       "      <td>None</td>\n",
       "      <td>False</td>\n",
       "      <td>4</td>\n",
       "      <td>[{'alias': 'florists', 'title': 'Florists'}]</td>\n",
       "      <td>Silver Spring</td>\n",
       "      <td>5007.226265</td>\n",
       "      <td>-77.028870</td>\n",
       "      <td>38.996680</td>\n",
       "      <td>florists</td>\n",
       "    </tr>\n",
       "    <tr>\n",
       "      <th>9</th>\n",
       "      <td>Roxana Multiservices</td>\n",
       "      <td>3.0</td>\n",
       "      <td>NaN</td>\n",
       "      <td>6</td>\n",
       "      <td>8727 Flower Ave</td>\n",
       "      <td>False</td>\n",
       "      <td>6</td>\n",
       "      <td>[{'alias': 'floraldesigners', 'title': 'Floral...</td>\n",
       "      <td>Silver Spring</td>\n",
       "      <td>1238.291097</td>\n",
       "      <td>-77.003873</td>\n",
       "      <td>38.999579</td>\n",
       "      <td>floraldesigners</td>\n",
       "    </tr>\n",
       "    <tr>\n",
       "      <th>10</th>\n",
       "      <td>Citiflowers</td>\n",
       "      <td>2.5</td>\n",
       "      <td>NaN</td>\n",
       "      <td>11</td>\n",
       "      <td>2321 Stewart Ave</td>\n",
       "      <td>False</td>\n",
       "      <td>11</td>\n",
       "      <td>[{'alias': 'florists', 'title': 'Florists'}, {...</td>\n",
       "      <td>Silver Spring</td>\n",
       "      <td>2826.536441</td>\n",
       "      <td>-77.050319</td>\n",
       "      <td>39.002958</td>\n",
       "      <td>florists</td>\n",
       "    </tr>\n",
       "    <tr>\n",
       "      <th>13</th>\n",
       "      <td>Sweet Stems Floral</td>\n",
       "      <td>5.0</td>\n",
       "      <td>NaN</td>\n",
       "      <td>2</td>\n",
       "      <td>3020 Beethoven Way</td>\n",
       "      <td>False</td>\n",
       "      <td>2</td>\n",
       "      <td>[{'alias': 'floraldesigners', 'title': 'Floral...</td>\n",
       "      <td>Silver Spring</td>\n",
       "      <td>9928.829936</td>\n",
       "      <td>-76.945920</td>\n",
       "      <td>39.069223</td>\n",
       "      <td>floraldesigners</td>\n",
       "    </tr>\n",
       "  </tbody>\n",
       "</table>\n",
       "</div>"
      ],
      "text/plain": [
       "                                    name  rating  pricing  num_reviews  \\\n",
       "0                     Bell Flowers, Inc.     5.0      2.0           71   \n",
       "1   Danisa's Wholesale Fresh Flowers Inc     4.5      2.0           28   \n",
       "2               Potomac Floral Wholesale     3.5      2.0           76   \n",
       "4                          Garden Vivien     5.0      NaN            2   \n",
       "5                     Da Vinci's Florist     4.0      2.0           37   \n",
       "6                Creative Floral Designs     3.5      2.0           26   \n",
       "8                         Ella's Florals     5.0      NaN            4   \n",
       "9                   Roxana Multiservices     3.0      NaN            6   \n",
       "10                           Citiflowers     2.5      NaN           11   \n",
       "13                    Sweet Stems Floral     5.0      NaN            2   \n",
       "\n",
       "        street_address  is_closed  review_count  \\\n",
       "0   8947 Brookville Rd      False            71   \n",
       "1       8870 Monard Dr      False            28   \n",
       "2       2403 Linden Ln      False            76   \n",
       "4      2223 Kansas Ave      False             2   \n",
       "5    2756 Garfield Ave      False            37   \n",
       "6        12158 Tech Rd      False            26   \n",
       "8                 None      False             4   \n",
       "9      8727 Flower Ave      False             6   \n",
       "10    2321 Stewart Ave      False            11   \n",
       "13  3020 Beethoven Way      False             2   \n",
       "\n",
       "                                           categories           city  \\\n",
       "0        [{'alias': 'florists', 'title': 'Florists'}]  Silver Spring   \n",
       "1        [{'alias': 'florists', 'title': 'Florists'}]  Silver Spring   \n",
       "2   [{'alias': 'florists', 'title': 'Florists'}, {...  Silver Spring   \n",
       "4        [{'alias': 'florists', 'title': 'Florists'}]  Silver Spring   \n",
       "5   [{'alias': 'florists', 'title': 'Florists'}, {...  Silver Spring   \n",
       "6   [{'alias': 'florists', 'title': 'Florists'}, {...  Silver Spring   \n",
       "8        [{'alias': 'florists', 'title': 'Florists'}]  Silver Spring   \n",
       "9   [{'alias': 'floraldesigners', 'title': 'Floral...  Silver Spring   \n",
       "10  [{'alias': 'florists', 'title': 'Florists'}, {...  Silver Spring   \n",
       "13  [{'alias': 'floraldesigners', 'title': 'Floral...  Silver Spring   \n",
       "\n",
       "       distance  longitude   latitude            alias  \n",
       "0   2972.202721 -77.052067  39.003009         florists  \n",
       "1   3567.895819 -77.059157  39.001541         florists  \n",
       "2   3155.302144 -77.050338  39.009649         florists  \n",
       "4   2721.772142 -77.049093  39.003290         florists  \n",
       "5   3451.436878 -77.057779  39.001881         florists  \n",
       "6   7528.587951 -76.967169  39.054732         florists  \n",
       "8   5007.226265 -77.028870  38.996680         florists  \n",
       "9   1238.291097 -77.003873  38.999579  floraldesigners  \n",
       "10  2826.536441 -77.050319  39.002958         florists  \n",
       "13  9928.829936 -76.945920  39.069223  floraldesigners  "
      ]
     },
     "execution_count": 31,
     "metadata": {},
     "output_type": "execute_result"
    }
   ],
   "source": [
    "ssdf"
   ]
  },
  {
   "cell_type": "code",
   "execution_count": 32,
   "metadata": {},
   "outputs": [
    {
     "data": {
      "text/html": [
       "<div>\n",
       "<style scoped>\n",
       "    .dataframe tbody tr th:only-of-type {\n",
       "        vertical-align: middle;\n",
       "    }\n",
       "\n",
       "    .dataframe tbody tr th {\n",
       "        vertical-align: top;\n",
       "    }\n",
       "\n",
       "    .dataframe thead th {\n",
       "        text-align: right;\n",
       "    }\n",
       "</style>\n",
       "<table border=\"1\" class=\"dataframe\">\n",
       "  <thead>\n",
       "    <tr style=\"text-align: right;\">\n",
       "      <th></th>\n",
       "      <th>name</th>\n",
       "      <th>rating</th>\n",
       "      <th>pricing</th>\n",
       "      <th>num_reviews</th>\n",
       "      <th>street_address</th>\n",
       "      <th>is_closed</th>\n",
       "      <th>review_count</th>\n",
       "      <th>categories</th>\n",
       "      <th>city</th>\n",
       "      <th>distance</th>\n",
       "      <th>longitude</th>\n",
       "      <th>latitude</th>\n",
       "      <th>alias</th>\n",
       "    </tr>\n",
       "  </thead>\n",
       "  <tbody>\n",
       "    <tr>\n",
       "      <th>0</th>\n",
       "      <td>Loudoun D Floral</td>\n",
       "      <td>4.5</td>\n",
       "      <td>2.0</td>\n",
       "      <td>16</td>\n",
       "      <td></td>\n",
       "      <td>False</td>\n",
       "      <td>16</td>\n",
       "      <td>[{'alias': 'florists', 'title': 'Florists'}]</td>\n",
       "      <td>Leesburg</td>\n",
       "      <td>1491.759497</td>\n",
       "      <td>-77.534730</td>\n",
       "      <td>39.130220</td>\n",
       "      <td>florists</td>\n",
       "    </tr>\n",
       "    <tr>\n",
       "      <th>1</th>\n",
       "      <td>J Morris Flowers</td>\n",
       "      <td>4.0</td>\n",
       "      <td>3.0</td>\n",
       "      <td>27</td>\n",
       "      <td>120 East Market St</td>\n",
       "      <td>False</td>\n",
       "      <td>27</td>\n",
       "      <td>[{'alias': 'florists', 'title': 'Florists'}]</td>\n",
       "      <td>Leesburg</td>\n",
       "      <td>1314.094845</td>\n",
       "      <td>-77.561445</td>\n",
       "      <td>39.114299</td>\n",
       "      <td>florists</td>\n",
       "    </tr>\n",
       "    <tr>\n",
       "      <th>2</th>\n",
       "      <td>CPK Floral Designs</td>\n",
       "      <td>5.0</td>\n",
       "      <td>NaN</td>\n",
       "      <td>12</td>\n",
       "      <td>None</td>\n",
       "      <td>False</td>\n",
       "      <td>12</td>\n",
       "      <td>[{'alias': 'florists', 'title': 'Florists'}, {...</td>\n",
       "      <td>Leesburg</td>\n",
       "      <td>1491.759497</td>\n",
       "      <td>-77.531944</td>\n",
       "      <td>39.119907</td>\n",
       "      <td>florists</td>\n",
       "    </tr>\n",
       "    <tr>\n",
       "      <th>3</th>\n",
       "      <td>Jerry's Flowers &amp; Gifts</td>\n",
       "      <td>4.0</td>\n",
       "      <td>2.0</td>\n",
       "      <td>22</td>\n",
       "      <td>700 Fieldstone Dr NE</td>\n",
       "      <td>False</td>\n",
       "      <td>22</td>\n",
       "      <td>[{'alias': 'florists', 'title': 'Florists'}]</td>\n",
       "      <td>Leesburg</td>\n",
       "      <td>1147.831498</td>\n",
       "      <td>-77.545801</td>\n",
       "      <td>39.125919</td>\n",
       "      <td>florists</td>\n",
       "    </tr>\n",
       "    <tr>\n",
       "      <th>4</th>\n",
       "      <td>Springvale Floral</td>\n",
       "      <td>5.0</td>\n",
       "      <td>NaN</td>\n",
       "      <td>4</td>\n",
       "      <td>None</td>\n",
       "      <td>False</td>\n",
       "      <td>4</td>\n",
       "      <td>[{'alias': 'floraldesigners', 'title': 'Floral...</td>\n",
       "      <td>Leesburg</td>\n",
       "      <td>1491.759497</td>\n",
       "      <td>-77.569520</td>\n",
       "      <td>39.112050</td>\n",
       "      <td>floraldesigners</td>\n",
       "    </tr>\n",
       "    <tr>\n",
       "      <th>5</th>\n",
       "      <td>House Of Redman</td>\n",
       "      <td>5.0</td>\n",
       "      <td>NaN</td>\n",
       "      <td>1</td>\n",
       "      <td>206 Loudoun St SW</td>\n",
       "      <td>False</td>\n",
       "      <td>1</td>\n",
       "      <td>[{'alias': 'florists', 'title': 'Florists'}, {...</td>\n",
       "      <td>Leesburg</td>\n",
       "      <td>1858.989002</td>\n",
       "      <td>-77.567840</td>\n",
       "      <td>39.115130</td>\n",
       "      <td>florists</td>\n",
       "    </tr>\n",
       "    <tr>\n",
       "      <th>6</th>\n",
       "      <td>Holly Heider Chapple Flowers</td>\n",
       "      <td>4.0</td>\n",
       "      <td>NaN</td>\n",
       "      <td>3</td>\n",
       "      <td>None</td>\n",
       "      <td>False</td>\n",
       "      <td>3</td>\n",
       "      <td>[{'alias': 'florists', 'title': 'Florists'}]</td>\n",
       "      <td>Leesburg</td>\n",
       "      <td>1491.759497</td>\n",
       "      <td>-77.566540</td>\n",
       "      <td>39.108480</td>\n",
       "      <td>florists</td>\n",
       "    </tr>\n",
       "    <tr>\n",
       "      <th>8</th>\n",
       "      <td>Wild Green Yonder</td>\n",
       "      <td>5.0</td>\n",
       "      <td>NaN</td>\n",
       "      <td>2</td>\n",
       "      <td>106 Loudoun St SW</td>\n",
       "      <td>False</td>\n",
       "      <td>2</td>\n",
       "      <td>[{'alias': 'floraldesigners', 'title': 'Floral...</td>\n",
       "      <td>Leesburg</td>\n",
       "      <td>1773.476827</td>\n",
       "      <td>-77.566845</td>\n",
       "      <td>39.114899</td>\n",
       "      <td>floraldesigners</td>\n",
       "    </tr>\n",
       "    <tr>\n",
       "      <th>11</th>\n",
       "      <td>Affordable Arrangements</td>\n",
       "      <td>5.0</td>\n",
       "      <td>NaN</td>\n",
       "      <td>2</td>\n",
       "      <td></td>\n",
       "      <td>False</td>\n",
       "      <td>2</td>\n",
       "      <td>[{'alias': 'floraldesigners', 'title': 'Floral...</td>\n",
       "      <td>Leesburg</td>\n",
       "      <td>1491.759497</td>\n",
       "      <td>-77.569405</td>\n",
       "      <td>39.110386</td>\n",
       "      <td>floraldesigners</td>\n",
       "    </tr>\n",
       "  </tbody>\n",
       "</table>\n",
       "</div>"
      ],
      "text/plain": [
       "                            name  rating  pricing  num_reviews  \\\n",
       "0               Loudoun D Floral     4.5      2.0           16   \n",
       "1               J Morris Flowers     4.0      3.0           27   \n",
       "2             CPK Floral Designs     5.0      NaN           12   \n",
       "3        Jerry's Flowers & Gifts     4.0      2.0           22   \n",
       "4              Springvale Floral     5.0      NaN            4   \n",
       "5                House Of Redman     5.0      NaN            1   \n",
       "6   Holly Heider Chapple Flowers     4.0      NaN            3   \n",
       "8              Wild Green Yonder     5.0      NaN            2   \n",
       "11       Affordable Arrangements     5.0      NaN            2   \n",
       "\n",
       "          street_address  is_closed  review_count  \\\n",
       "0                             False            16   \n",
       "1     120 East Market St      False            27   \n",
       "2                   None      False            12   \n",
       "3   700 Fieldstone Dr NE      False            22   \n",
       "4                   None      False             4   \n",
       "5      206 Loudoun St SW      False             1   \n",
       "6                   None      False             3   \n",
       "8      106 Loudoun St SW      False             2   \n",
       "11                            False             2   \n",
       "\n",
       "                                           categories      city     distance  \\\n",
       "0        [{'alias': 'florists', 'title': 'Florists'}]  Leesburg  1491.759497   \n",
       "1        [{'alias': 'florists', 'title': 'Florists'}]  Leesburg  1314.094845   \n",
       "2   [{'alias': 'florists', 'title': 'Florists'}, {...  Leesburg  1491.759497   \n",
       "3        [{'alias': 'florists', 'title': 'Florists'}]  Leesburg  1147.831498   \n",
       "4   [{'alias': 'floraldesigners', 'title': 'Floral...  Leesburg  1491.759497   \n",
       "5   [{'alias': 'florists', 'title': 'Florists'}, {...  Leesburg  1858.989002   \n",
       "6        [{'alias': 'florists', 'title': 'Florists'}]  Leesburg  1491.759497   \n",
       "8   [{'alias': 'floraldesigners', 'title': 'Floral...  Leesburg  1773.476827   \n",
       "11  [{'alias': 'floraldesigners', 'title': 'Floral...  Leesburg  1491.759497   \n",
       "\n",
       "    longitude   latitude            alias  \n",
       "0  -77.534730  39.130220         florists  \n",
       "1  -77.561445  39.114299         florists  \n",
       "2  -77.531944  39.119907         florists  \n",
       "3  -77.545801  39.125919         florists  \n",
       "4  -77.569520  39.112050  floraldesigners  \n",
       "5  -77.567840  39.115130         florists  \n",
       "6  -77.566540  39.108480         florists  \n",
       "8  -77.566845  39.114899  floraldesigners  \n",
       "11 -77.569405  39.110386  floraldesigners  "
      ]
     },
     "execution_count": 32,
     "metadata": {},
     "output_type": "execute_result"
    }
   ],
   "source": [
    "lbdf"
   ]
  },
  {
   "cell_type": "markdown",
   "metadata": {},
   "source": [
    "## Analysis"
   ]
  },
  {
   "cell_type": "code",
   "execution_count": 44,
   "metadata": {},
   "outputs": [
    {
     "name": "stdout",
     "output_type": "stream",
     "text": [
      "<class 'pandas.core.frame.DataFrame'>\n",
      "Int64Index: 10 entries, 0 to 13\n",
      "Data columns (total 13 columns):\n",
      " #   Column          Non-Null Count  Dtype  \n",
      "---  ------          --------------  -----  \n",
      " 0   name            10 non-null     object \n",
      " 1   rating          10 non-null     float64\n",
      " 2   pricing         5 non-null      float64\n",
      " 3   num_reviews     10 non-null     int64  \n",
      " 4   street_address  9 non-null      object \n",
      " 5   is_closed       10 non-null     bool   \n",
      " 6   review_count    10 non-null     int64  \n",
      " 7   categories      10 non-null     object \n",
      " 8   city            10 non-null     object \n",
      " 9   distance        10 non-null     float64\n",
      " 10  longitude       10 non-null     float64\n",
      " 11  latitude        10 non-null     float64\n",
      " 12  alias           10 non-null     object \n",
      "dtypes: bool(1), float64(5), int64(2), object(5)\n",
      "memory usage: 1.0+ KB\n"
     ]
    }
   ],
   "source": [
    "ssdf.info()"
   ]
  },
  {
   "cell_type": "code",
   "execution_count": 45,
   "metadata": {},
   "outputs": [
    {
     "name": "stdout",
     "output_type": "stream",
     "text": [
      "<class 'pandas.core.frame.DataFrame'>\n",
      "Int64Index: 9 entries, 0 to 11\n",
      "Data columns (total 13 columns):\n",
      " #   Column          Non-Null Count  Dtype  \n",
      "---  ------          --------------  -----  \n",
      " 0   name            9 non-null      object \n",
      " 1   rating          9 non-null      float64\n",
      " 2   pricing         3 non-null      float64\n",
      " 3   num_reviews     9 non-null      int64  \n",
      " 4   street_address  6 non-null      object \n",
      " 5   is_closed       9 non-null      bool   \n",
      " 6   review_count    9 non-null      int64  \n",
      " 7   categories      9 non-null      object \n",
      " 8   city            9 non-null      object \n",
      " 9   distance        9 non-null      float64\n",
      " 10  longitude       9 non-null      float64\n",
      " 11  latitude        9 non-null      float64\n",
      " 12  alias           9 non-null      object \n",
      "dtypes: bool(1), float64(5), int64(2), object(5)\n",
      "memory usage: 945.0+ bytes\n"
     ]
    }
   ],
   "source": [
    "lbdf.info()"
   ]
  },
  {
   "cell_type": "code",
   "execution_count": 39,
   "metadata": {},
   "outputs": [
    {
     "ename": "AttributeError",
     "evalue": "module 'matplotlib' has no attribute 'title'",
     "output_type": "error",
     "traceback": [
      "\u001b[1;31m---------------------------------------------------------------------------\u001b[0m",
      "\u001b[1;31mAttributeError\u001b[0m                            Traceback (most recent call last)",
      "\u001b[1;32m<ipython-input-39-069a405395c0>\u001b[0m in \u001b[0;36m<module>\u001b[1;34m\u001b[0m\n\u001b[0;32m      1\u001b[0m \u001b[1;31m# Graph totals\u001b[0m\u001b[1;33m\u001b[0m\u001b[1;33m\u001b[0m\u001b[1;33m\u001b[0m\u001b[0m\n\u001b[0;32m      2\u001b[0m \u001b[0mlbdf\u001b[0m\u001b[1;33m.\u001b[0m\u001b[0mplot\u001b[0m\u001b[1;33m.\u001b[0m\u001b[0mbar\u001b[0m\u001b[1;33m(\u001b[0m\u001b[1;34m\"rating\"\u001b[0m\u001b[1;33m,\u001b[0m \u001b[1;34m\"review_count\"\u001b[0m\u001b[1;33m,\u001b[0m \u001b[0mfigsize\u001b[0m \u001b[1;33m=\u001b[0m \u001b[1;33m(\u001b[0m\u001b[1;36m10\u001b[0m\u001b[1;33m,\u001b[0m\u001b[1;36m8\u001b[0m\u001b[1;33m)\u001b[0m\u001b[1;33m,\u001b[0m \u001b[0mcolor\u001b[0m \u001b[1;33m=\u001b[0m \u001b[1;34m\"crimson\"\u001b[0m\u001b[1;33m)\u001b[0m\u001b[1;33m\u001b[0m\u001b[1;33m\u001b[0m\u001b[0m\n\u001b[1;32m----> 3\u001b[1;33m \u001b[0mplt\u001b[0m\u001b[1;33m.\u001b[0m\u001b[0mtitle\u001b[0m\u001b[1;33m(\u001b[0m\u001b[1;34m\"Distribution of Yelp Ratings in Leesburg, VA\"\u001b[0m\u001b[1;33m)\u001b[0m\u001b[1;33m\u001b[0m\u001b[1;33m\u001b[0m\u001b[0m\n\u001b[0m\u001b[0;32m      4\u001b[0m \u001b[0mplt\u001b[0m\u001b[1;33m.\u001b[0m\u001b[0mxlabel\u001b[0m\u001b[1;33m(\u001b[0m\u001b[1;34m\"Yelp Ratings\"\u001b[0m\u001b[1;33m)\u001b[0m\u001b[1;33m\u001b[0m\u001b[1;33m\u001b[0m\u001b[0m\n\u001b[0;32m      5\u001b[0m \u001b[0mplt\u001b[0m\u001b[1;33m.\u001b[0m\u001b[0mylabel\u001b[0m\u001b[1;33m(\u001b[0m\u001b[1;34m\"Review Count\"\u001b[0m\u001b[1;33m)\u001b[0m\u001b[1;33m\u001b[0m\u001b[1;33m\u001b[0m\u001b[0m\n",
      "\u001b[1;31mAttributeError\u001b[0m: module 'matplotlib' has no attribute 'title'"
     ]
    },
    {
     "data": {
      "image/png": "[encoded data removed]",
      "text/plain": [
       "<Figure size 720x576 with 1 Axes>"
      ]
     },
     "metadata": {
      "needs_background": "light"
     },
     "output_type": "display_data"
    }
   ],
   "source": [
    "# Graph totals\n",
    "lbdf.plot.bar(\"rating\", \"review_count\", figsize = (10,8), color = \"crimson\") \n",
    "plt.title(\"Distribution of Yelp Ratings in Leesburg, VA\")\n",
    "plt.xlabel(\"Yelp Ratings\")\n",
    "plt.ylabel(\"Review Count\")"
   ]
  },
  {
   "cell_type": "code",
   "execution_count": 46,
   "metadata": {},
   "outputs": [
    {
     "ename": "AttributeError",
     "evalue": "module 'matplotlib' has no attribute 'title'",
     "output_type": "error",
     "traceback": [
      "\u001b[1;31m---------------------------------------------------------------------------\u001b[0m",
      "\u001b[1;31mAttributeError\u001b[0m                            Traceback (most recent call last)",
      "\u001b[1;32m<ipython-input-46-e495bea0321f>\u001b[0m in \u001b[0;36m<module>\u001b[1;34m\u001b[0m\n\u001b[0;32m      1\u001b[0m \u001b[0mssdf\u001b[0m\u001b[1;33m.\u001b[0m\u001b[0mplot\u001b[0m\u001b[1;33m.\u001b[0m\u001b[0mbar\u001b[0m\u001b[1;33m(\u001b[0m\u001b[1;34m\"rating\"\u001b[0m\u001b[1;33m,\u001b[0m \u001b[1;34m\"review_count\"\u001b[0m\u001b[1;33m,\u001b[0m \u001b[0mfigsize\u001b[0m \u001b[1;33m=\u001b[0m \u001b[1;33m(\u001b[0m\u001b[1;36m10\u001b[0m\u001b[1;33m,\u001b[0m\u001b[1;36m8\u001b[0m\u001b[1;33m)\u001b[0m\u001b[1;33m,\u001b[0m \u001b[0mcolor\u001b[0m \u001b[1;33m=\u001b[0m \u001b[1;34m\"blue\"\u001b[0m\u001b[1;33m)\u001b[0m\u001b[1;33m\u001b[0m\u001b[1;33m\u001b[0m\u001b[0m\n\u001b[1;32m----> 2\u001b[1;33m \u001b[0mplt\u001b[0m\u001b[1;33m.\u001b[0m\u001b[0mtitle\u001b[0m\u001b[1;33m(\u001b[0m\u001b[1;34m\"Distribution of Yelp Ratings in Leesburg, VA\"\u001b[0m\u001b[1;33m)\u001b[0m\u001b[1;33m\u001b[0m\u001b[1;33m\u001b[0m\u001b[0m\n\u001b[0m\u001b[0;32m      3\u001b[0m \u001b[0mplt\u001b[0m\u001b[1;33m.\u001b[0m\u001b[0mxlabel\u001b[0m\u001b[1;33m(\u001b[0m\u001b[1;34m\"Yelp Ratings\"\u001b[0m\u001b[1;33m)\u001b[0m\u001b[1;33m\u001b[0m\u001b[1;33m\u001b[0m\u001b[0m\n\u001b[0;32m      4\u001b[0m \u001b[0mplt\u001b[0m\u001b[1;33m.\u001b[0m\u001b[0mylabel\u001b[0m\u001b[1;33m(\u001b[0m\u001b[1;34m\"Review Count\"\u001b[0m\u001b[1;33m)\u001b[0m\u001b[1;33m\u001b[0m\u001b[1;33m\u001b[0m\u001b[0m\n",
      "\u001b[1;31mAttributeError\u001b[0m: module 'matplotlib' has no attribute 'title'"
     ]
    },
    {
     "data": {
      "image/png": "[encoded data removed]",
      "text/plain": [
       "<Figure size 720x576 with 1 Axes>"
      ]
     },
     "metadata": {
      "needs_background": "light"
     },
     "output_type": "display_data"
    }
   ],
   "source": [
    "ssdf.plot.bar(\"rating\", \"review_count\", figsize = (10,8), color = \"blue\") \n",
    "plt.title(\"Distribution of Yelp Ratings in Leesburg, VA\")\n",
    "plt.xlabel(\"Yelp Ratings\")\n",
    "plt.ylabel(\"Review Count\")"
   ]
  },
  {
   "cell_type": "code",
   "execution_count": 57,
   "metadata": {},
   "outputs": [
    {
     "data": {
      "text/plain": [
       "<_io.TextIOWrapper name='Census_SS.csv' mode='r' encoding='cp1252'>"
      ]
     },
     "execution_count": 57,
     "metadata": {},
     "output_type": "execute_result"
    }
   ],
   "source": [
    "# Retrieve population data from Census\n",
    "census_ss = open('Census_SS.csv')\n",
    "census_ss"
   ]
  },
  {
   "cell_type": "code",
   "execution_count": 80,
   "metadata": {},
   "outputs": [
    {
     "data": {
      "text/plain": [
       "'\"Population, Census, April 1, 2020\",\"\",\"81,015\",\"\"\\n'"
      ]
     },
     "execution_count": 80,
     "metadata": {},
     "output_type": "execute_result"
    }
   ],
   "source": [
    "# Silver Spring population from US Census B.\n",
    "ss_lst = open('Census_SS.csv').readlines()\n",
    "ss_lst[4]"
   ]
  },
  {
   "cell_type": "code",
   "execution_count": 81,
   "metadata": {},
   "outputs": [
    {
     "data": {
      "text/plain": [
       "'\"Population estimates, July 1, 2019,  (V2019)\",\"\",\"53,727\",\"\"\\n'"
      ]
     },
     "execution_count": 81,
     "metadata": {},
     "output_type": "execute_result"
    }
   ],
   "source": [
    "# Leesburg population from US Census B.\n",
    "lb_lst = open('Census_LB.csv').readlines()\n",
    "lb_lst[1]"
   ]
  },
  {
   "cell_type": "code",
   "execution_count": null,
   "metadata": {},
   "outputs": [],
   "source": [
    "# Flower shop per 1,000 people Silver Spring\n"
   ]
  },
  {
   "cell_type": "code",
   "execution_count": null,
   "metadata": {},
   "outputs": [],
   "source": [
    "# Flower shop per 1,000 people Leesburg"
   ]
  },
  {
   "cell_type": "code",
   "execution_count": 82,
   "metadata": {},
   "outputs": [
    {
     "data": {
      "text/plain": [
       "['\"Fact\",\"Fact Note\",\"Silver Spring CDP, Maryland\",\"Value Note for Silver Spring CDP, Maryland\"\\n',\n",
       " '\"Population estimates, July 1, 2019,  (V2019)\",\"\",\"X\",\"\"\\n',\n",
       " '\"Population estimates base, April 1, 2010,  (V2019)\",\"\",\"X\",\"\"\\n',\n",
       " '\"Population, percent change - April 1, 2010 (estimates base) to July 1, 2019,  (V2019)\",\"\",\"X\",\"\"\\n',\n",
       " '\"Population, Census, April 1, 2020\",\"\",\"81,015\",\"\"\\n',\n",
       " '\"Population, Census, April 1, 2010\",\"\",\"71,452\",\"\"\\n',\n",
       " '\"Persons under 5 years, percent\",\"\",\"8.0%\",\"\"\\n',\n",
       " '\"Persons under 18 years, percent\",\"\",\"22.4%\",\"\"\\n',\n",
       " '\"Persons 65 years and over, percent\",\"\",\"10.4%\",\"\"\\n',\n",
       " '\"Female persons, percent\",\"\",\"50.9%\",\"\"\\n',\n",
       " '\"White alone, percent\",\"\",\"39.9%\",\"\"\\n',\n",
       " '\"Black or African American alone, percent\",\"(a)\",\"28.4%\",\"\"\\n',\n",
       " '\"American Indian and Alaska Native alone, percent\",\"(a)\",\"0.3%\",\"\"\\n',\n",
       " '\"Asian alone, percent\",\"(a)\",\"7.4%\",\"\"\\n',\n",
       " '\"Native Hawaiian and Other Pacific Islander alone, percent\",\"(a)\",\"0.0%\",\"\"\\n',\n",
       " '\"Two or More Races, percent\",\"\",\"4.2%\",\"\"\\n',\n",
       " '\"Hispanic or Latino, percent\",\"(b)\",\"28.0%\",\"\"\\n',\n",
       " '\"White alone, not Hispanic or Latino, percent\",\"\",\"33.3%\",\"\"\\n',\n",
       " '\"Veterans, 2015-2019\",\"\",\"2,158\",\"\"\\n',\n",
       " '\"Foreign born persons, percent, 2015-2019\",\"\",\"36.5%\",\"\"\\n',\n",
       " '\"Housing units,  July 1, 2019,  (V2019)\",\"\",\"X\",\"\"\\n',\n",
       " '\"Owner-occupied housing unit rate, 2015-2019\",\"\",\"35.7%\",\"\"\\n',\n",
       " '\"Median value of owner-occupied housing units, 2015-2019\",\"\",\"$516,900\",\"\"\\n',\n",
       " '\"Median selected monthly owner costs -with a mortgage, 2015-2019\",\"\",\"$2,528\",\"\"\\n',\n",
       " '\"Median selected monthly owner costs -without a mortgage, 2015-2019\",\"\",\"$740\",\"\"\\n',\n",
       " '\"Median gross rent, 2015-2019\",\"\",\"$1,665\",\"\"\\n',\n",
       " '\"Building permits, 2020\",\"\",\"X\",\"\"\\n',\n",
       " '\"Households, 2015-2019\",\"\",\"31,827\",\"\"\\n',\n",
       " '\"Persons per household, 2015-2019\",\"\",\"2.56\",\"\"\\n',\n",
       " '\"Living in same house 1 year ago, percent of persons age 1 year+, 2015-2019\",\"\",\"80.2%\",\"\"\\n',\n",
       " '\"Language other than English spoken at home, percent of persons age 5 years+, 2015-2019\",\"\",\"45.2%\",\"\"\\n',\n",
       " '\"Households with a computer, percent, 2015-2019\",\"\",\"94.9%\",\"\"\\n',\n",
       " '\"Households with a broadband Internet subscription, percent, 2015-2019\",\"\",\"89.5%\",\"\"\\n',\n",
       " '\"High school graduate or higher, percent of persons age 25 years+, 2015-2019\",\"\",\"85.0%\",\"\"\\n',\n",
       " '\"Bachelor\\'s degree or higher, percent of persons age 25 years+, 2015-2019\",\"\",\"54.9%\",\"\"\\n',\n",
       " '\"With a disability, under age 65 years, percent, 2015-2019\",\"\",\"4.7%\",\"\"\\n',\n",
       " '\"Persons  without health insurance, under age 65 years, percent\",\"\",\"13.4%\",\"\"\\n',\n",
       " '\"In civilian labor force, total, percent of population age 16 years+, 2015-2019\",\"\",\"78.1%\",\"\"\\n',\n",
       " '\"In civilian labor force, female, percent of population age 16 years+, 2015-2019\",\"\",\"73.2%\",\"\"\\n',\n",
       " '\"Total accommodation and food services sales, 2012 ($1,000)\",\"(c)\",\"187,276\",\"\"\\n',\n",
       " '\"Total health care and social assistance receipts/revenue, 2012 ($1,000)\",\"(c)\",\"424,762\",\"\"\\n',\n",
       " '\"Total manufacturers shipments, 2012 ($1,000)\",\"(c)\",\"35,914\",\"\"\\n',\n",
       " '\"Total retail sales, 2012 ($1,000)\",\"(c)\",\"596,126\",\"\"\\n',\n",
       " '\"Total retail sales per capita, 2012\",\"(c)\",\"NA\",\"\"\\n',\n",
       " '\"Mean travel time to work (minutes), workers age 16 years+, 2015-2019\",\"\",\"35.1\",\"\"\\n',\n",
       " '\"Median household income (in 2019 dollars), 2015-2019\",\"\",\"$83,782\",\"\"\\n',\n",
       " '\"Per capita income in past 12 months (in 2019 dollars), 2015-2019\",\"\",\"$43,920\",\"\"\\n',\n",
       " '\"Persons in poverty, percent\",\"\",\"10.6%\",\"\"\\n',\n",
       " '\"Total employer establishments, 2019\",\"\",\"X\",\"\"\\n',\n",
       " '\"Total employment, 2019\",\"\",\"X\",\"\"\\n',\n",
       " '\"Total annual payroll, 2019 ($1,000)\",\"\",\"X\",\"\"\\n',\n",
       " '\"Total employment, percent change, 2018-2019\",\"\",\"X\",\"\"\\n',\n",
       " '\"Total nonemployer establishments, 2018\",\"\",\"X\",\"\"\\n',\n",
       " '\"All firms, 2012\",\"\",\"10,173\",\"\"\\n',\n",
       " '\"Men-owned firms, 2012\",\"\",\"4,888\",\"\"\\n',\n",
       " '\"Women-owned firms, 2012\",\"\",\"4,520\",\"\"\\n',\n",
       " '\"Minority-owned firms, 2012\",\"\",\"5,196\",\"\"\\n',\n",
       " '\"Nonminority-owned firms, 2012\",\"\",\"4,621\",\"\"\\n',\n",
       " '\"Veteran-owned firms, 2012\",\"\",\"764\",\"\"\\n',\n",
       " '\"Nonveteran-owned firms, 2012\",\"\",\"9,044\",\"\"\\n',\n",
       " '\"Population per square mile, 2010\",\"\",\"9,023.0\",\"\"\\n',\n",
       " '\"Land area in square miles, 2010\",\"\",\"7.92\",\"\"\\n',\n",
       " '\"FIPS Code\",\"\",\"\"\"2472450\"\"\",\"\"\\n',\n",
       " '\"\",\"\",\"\",\"\"\\n',\n",
       " '\"NOTE: FIPS Code values are enclosed in quotes to ensure leading zeros remain intact.\",\"\",\"\",\"\"\\n',\n",
       " '\"\",\"\",\"\",\"\"\\n',\n",
       " '\"Value Notes\",\"\",\"\",\"\"\\n',\n",
       " '\"None\",\"\",\"\",\"\"\\n',\n",
       " '\"\",\"\",\"\",\"\"\\n',\n",
       " '\"Fact Notes\",\"\",\"\",\"\"\\n',\n",
       " '\"(a)\",\"Includes persons reporting only one race\",\"\",\"\"\\n',\n",
       " '\"(c)\",\"Economic Census - Puerto Rico data are not comparable to U.S. Economic Census data\",\"\",\"\"\\n',\n",
       " '\"(b)\",\"Hispanics may be of any race, so also are included in applicable race categories\",\"\",\"\"\\n',\n",
       " '\"\",\"\",\"\",\"\"\\n',\n",
       " '\"Value Flags\",\"\",\"\",\"\"\\n',\n",
       " '\"-\",\"Either no or too few sample observations were available to compute an estimate, or a ratio of medians cannot be calculated because one or both of the median estimates falls in the lowest or upper interval of an open ended distribution.\",\"\",\"\"\\n',\n",
       " '\"F\",\"Fewer than 25 firms\",\"\",\"\"\\n',\n",
       " '\"D\",\"Suppressed to avoid disclosure of confidential information\",\"\",\"\"\\n',\n",
       " '\"N\",\"Data for this geographic area cannot be displayed because the number of sample cases is too small.\",\"\",\"\"\\n',\n",
       " '\"FN\",\"Footnote on this item in place of data\",\"\",\"\"\\n',\n",
       " '\"X\",\"Not applicable\",\"\",\"\"\\n',\n",
       " '\"S\",\"Suppressed; does not meet publication standards\",\"\",\"\"\\n',\n",
       " '\"NA\",\"Not available\",\"\",\"\"\\n',\n",
       " '\"Z\",\"Value greater than zero but less than half unit of measure shown\",\"\",\"\"\\n']"
      ]
     },
     "execution_count": 82,
     "metadata": {},
     "output_type": "execute_result"
    }
   ],
   "source": [
    "# Average income from Silver Spring\n",
    "ss_lst"
   ]
  },
  {
   "cell_type": "code",
   "execution_count": null,
   "metadata": {},
   "outputs": [],
   "source": [
    "# Average income from Leesburg"
   ]
  },
  {
   "cell_type": "code",
   "execution_count": null,
   "metadata": {},
   "outputs": [],
   "source": [
    "# Average age from each city"
   ]
  },
  {
   "cell_type": "code",
   "execution_count": null,
   "metadata": {},
   "outputs": [],
   "source": [
    "# Flower buyer demographic info?"
   ]
  },
  {
   "cell_type": "code",
   "execution_count": null,
   "metadata": {},
   "outputs": [],
   "source": []
  },
  {
   "cell_type": "code",
   "execution_count": null,
   "metadata": {},
   "outputs": [],
   "source": []
  },
  {
   "cell_type": "code",
   "execution_count": null,
   "metadata": {},
   "outputs": [],
   "source": []
  },
  {
   "cell_type": "code",
   "execution_count": null,
   "metadata": {},
   "outputs": [],
   "source": []
  },
  {
   "cell_type": "markdown",
   "metadata": {},
   "source": [
    "## Maps"
   ]
  },
  {
   "cell_type": "code",
   "execution_count": 71,
   "metadata": {},
   "outputs": [],
   "source": [
    "# Point maps for each city"
   ]
  },
  {
   "cell_type": "code",
   "execution_count": null,
   "metadata": {},
   "outputs": [],
   "source": [
    "# Population heat map"
   ]
  },
  {
   "cell_type": "code",
   "execution_count": null,
   "metadata": {},
   "outputs": [],
   "source": [
    "# Population head map plus point map (show who services who)"
   ]
  },
  {
   "cell_type": "code",
   "execution_count": null,
   "metadata": {},
   "outputs": [],
   "source": []
  },
  {
   "cell_type": "code",
   "execution_count": null,
   "metadata": {},
   "outputs": [],
   "source": []
  },
  {
   "cell_type": "markdown",
   "metadata": {},
   "source": [
    "## Decision"
   ]
  },
  {
   "cell_type": "markdown",
   "metadata": {},
   "source": []
  }
 ],
 "metadata": {
  "interpreter": {
   "hash": "dba4e39bde81d51a0d9c8c6f450212468c51e66449dcd8bec1436e8ac13e18af"
  },
  "kernelspec": {
   "display_name": "Python 3.8.8 64-bit ('base': conda)",
   "name": "python3"
  },
  "language_info": {
   "codemirror_mode": {
    "name": "ipython",
    "version": 3
   },
   "file_extension": ".py",
   "mimetype": "text/x-python",
   "name": "python",
   "nbconvert_exporter": "python",
   "pygments_lexer": "ipython3",
   "version": "3.8.8"
  },
  "orig_nbformat": 4
 },
 "nbformat": 4,
 "nbformat_minor": 2
}
