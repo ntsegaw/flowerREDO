{
 "cells": [
  {
   "cell_type": "markdown",
   "metadata": {},
   "source": [
    "# Phase One Project UPDATE"
   ]
  },
  {
   "cell_type": "markdown",
   "metadata": {},
   "source": [
    "### Where to open a new flower shop... in Silver Spring, Maryland or Leesburg, Virginia?"
   ]
  },
  {
   "cell_type": "markdown",
   "metadata": {},
   "source": [
    "## Imports"
   ]
  },
  {
   "cell_type": "code",
   "execution_count": 29,
   "metadata": {},
   "outputs": [],
   "source": [
    "import requests\n",
    "import json\n",
    "import pandas as pd\n",
    "import numpy as np"
   ]
  },
  {
   "cell_type": "markdown",
   "metadata": {},
   "source": [
    "## Yelp API Call"
   ]
  },
  {
   "cell_type": "code",
   "execution_count": 4,
   "metadata": {},
   "outputs": [],
   "source": [
    "with open('api_key.txt') as f:\n",
    "    lines = f.read()\n",
    " #   print(lines)"
   ]
  },
  {
   "cell_type": "code",
   "execution_count": 5,
   "metadata": {},
   "outputs": [],
   "source": [
    "url = 'https://api.yelp.com/v3/businesses/search'\n",
    "key = lines\n",
    "headers = {\n",
    "    'Authorization': 'Bearer %s' % key\n",
    "}"
   ]
  },
  {
   "cell_type": "code",
   "execution_count": 6,
   "metadata": {},
   "outputs": [],
   "source": [
    "data = []\n",
    "for offset in range(0, 1000, 50):\n",
    "    url_params = {\n",
    "        'term': \"flower\",\n",
    "        'location': 'Silver Spring+MD',\n",
    "        'limit': 50,\n",
    "        'offset': offset,\n",
    "        \"radius\": 8047\n",
    "    }\n",
    "\n",
    "    response = requests.get(url, headers=headers, params=url_params)\n",
    "    if response.status_code == 200:\n",
    "        data += response.json()['businesses']\n",
    "\n",
    "    elif response.status_code == 400:\n",
    "            print('400 Bad Request')\n",
    "            break\n"
   ]
  },
  {
   "cell_type": "code",
   "execution_count": 7,
   "metadata": {},
   "outputs": [],
   "source": [
    "data2 = []\n",
    "for offset in range(0, 1000, 50):\n",
    "    url_params = {\n",
    "        'term': \"flower\",\n",
    "        'location': 'Leesburg+VA',\n",
    "        'limit': 50,\n",
    "        'offset': offset,\n",
    "        \"radius\": 8047\n",
    "    }\n",
    "\n",
    "    response = requests.get(url, headers=headers, params=url_params)\n",
    "    if response.status_code == 200:\n",
    "        data2 += response.json()['businesses']\n",
    "\n",
    "    elif response.status_code == 400:\n",
    "            print('400 Bad Request')\n",
    "            break\n"
   ]
  },
  {
   "cell_type": "markdown",
   "metadata": {},
   "source": [
    "## Clean Yelp Results"
   ]
  },
  {
   "cell_type": "code",
   "execution_count": 8,
   "metadata": {},
   "outputs": [],
   "source": [
    "def getbiz(params):\n",
    "    names = []\n",
    "    ratings = []\n",
    "    pricing = []\n",
    "    cnt = []\n",
    "    address = []\n",
    "    is_closed = []\n",
    "    review_count = []\n",
    "    categories = []\n",
    "    city = []\n",
    "    distance = []\n",
    "    longitude = []\n",
    "    latitude = []\n",
    "\n",
    "    for i in range(len(params)):\n",
    "        names.append(params[i]['name'])\n",
    "        ratings.append(params[i]['rating'])\n",
    "        address.append((params[i]['location']['address1']))\n",
    "        is_closed.append(params[i]['is_closed'])\n",
    "        review_count.append(params[i]['review_count'])\n",
    "        categories.append(params[i]['categories'])\n",
    "        city.append(params[i]['location']['city'])\n",
    "        distance.append(params[i]['distance'])\n",
    "        longitude.append(params[i]['coordinates']['longitude'])\n",
    "        latitude.append(params[i]['coordinates']['latitude'])\n",
    "        try:\n",
    "            [pricing.append(len(params[i]['price']))]\n",
    "        except:\n",
    "            pricing.append(None)\n",
    "        cnt.append(params[i]['review_count'])\n",
    "    biz = {'name': names, 'rating': ratings, 'pricing': pricing, 'num_reviews': cnt, 'street_address': address, \n",
    "            'is_closed': is_closed, 'review_count': review_count, 'categories': categories, 'city': city,\n",
    "            'distance': distance, 'longitude': longitude, 'latitude': latitude}\n",
    "\n",
    "\n",
    "    return pd.DataFrame(biz)"
   ]
  },
  {
   "cell_type": "code",
   "execution_count": 9,
   "metadata": {},
   "outputs": [],
   "source": [
    "ssdf = getbiz(data)\n",
    "lbdf = getbiz(data2)"
   ]
  },
  {
   "cell_type": "code",
   "execution_count": 10,
   "metadata": {},
   "outputs": [],
   "source": [
    "# Delete shops that are not within the respective cities\n",
    "ssdf = ssdf[ssdf.city == 'Silver Spring']\n",
    "lbdf = lbdf[lbdf.city == 'Leesburg']"
   ]
  },
  {
   "cell_type": "code",
   "execution_count": 12,
   "metadata": {},
   "outputs": [],
   "source": [
    "ssdf.reset_index(inplace = True)\n",
    "ssdf.drop('index', 1, inplace= True)"
   ]
  },
  {
   "cell_type": "code",
   "execution_count": 13,
   "metadata": {},
   "outputs": [],
   "source": [
    "lbdf.reset_index(inplace = True)\n",
    "lbdf.drop('index', 1, inplace= True)"
   ]
  },
  {
   "cell_type": "code",
   "execution_count": 14,
   "metadata": {},
   "outputs": [],
   "source": [
    "#Save cleaned data to CSV\n",
    "ssdf.to_csv('silver_spring.csv', encoding='utf-8', index=False)\n",
    "\n",
    "lbdf.to_csv('leesburg.csv', encoding='utf-8', index=False)"
   ]
  },
  {
   "cell_type": "code",
   "execution_count": 22,
   "metadata": {},
   "outputs": [],
   "source": [
    "def find_alias(params):\n",
    "    alias = []\n",
    "    for i in range(len(params)):\n",
    "        alias.append(params['categories'][i][0]['alias'])\n",
    "       # if params['categories'][i][0]['alias'] == '':\n",
    "        #    df.drop(params['categories'][i])\n",
    "    params['alias'] = alias"
   ]
  },
  {
   "cell_type": "code",
   "execution_count": 23,
   "metadata": {},
   "outputs": [],
   "source": [
    "find_alias(ssdf)"
   ]
  },
  {
   "cell_type": "code",
   "execution_count": 25,
   "metadata": {},
   "outputs": [],
   "source": [
    "#Find and destroy empty category\n",
    "lbdf = lbdf.dropna(subset=['categories'])"
   ]
  },
  {
   "cell_type": "code",
   "execution_count": 37,
   "metadata": {},
   "outputs": [],
   "source": [
    "#Find and destroy empty list\n",
    "lbdf = lbdf[lbdf['categories'].map(lambda d: len(d)) > 0]"
   ]
  },
  {
   "cell_type": "code",
   "execution_count": null,
   "metadata": {},
   "outputs": [],
   "source": [
    "#FIND OUT HOW TO KEEP MULTI PURPOSE STORES (SECOND ALIAS)"
   ]
  },
  {
   "cell_type": "code",
   "execution_count": 66,
   "metadata": {},
   "outputs": [],
   "source": [
    "#Function to filter non-flowershops\n",
    "def flower_filter(params):\n",
    "    indexNames = params[(params['alias'] != 'florists') & (params['alias'] != 'floraldesigners') ].index\n",
    "    params.drop(indexNames, inplace=True)\n",
    "    return params"
   ]
  },
  {
   "cell_type": "code",
   "execution_count": 67,
   "metadata": {},
   "outputs": [
    {
     "name": "stderr",
     "output_type": "stream",
     "text": [
      "C:\\Users\\A\\anaconda3\\lib\\site-packages\\pandas\\core\\frame.py:4308: SettingWithCopyWarning: \n",
      "A value is trying to be set on a copy of a slice from a DataFrame\n",
      "\n",
      "See the caveats in the documentation: https://pandas.pydata.org/pandas-docs/stable/user_guide/indexing.html#returning-a-view-versus-a-copy\n",
      "  return super().drop(\n"
     ]
    }
   ],
   "source": [
    "lbdf = flower_filter(lbdf)\n",
    "ssdf = flower_filter(ssdf)"
   ]
  },
  {
   "cell_type": "code",
   "execution_count": 68,
   "metadata": {},
   "outputs": [
    {
     "data": {
      "text/html": [
       "<div>\n",
       "<style scoped>\n",
       "    .dataframe tbody tr th:only-of-type {\n",
       "        vertical-align: middle;\n",
       "    }\n",
       "\n",
       "    .dataframe tbody tr th {\n",
       "        vertical-align: top;\n",
       "    }\n",
       "\n",
       "    .dataframe thead th {\n",
       "        text-align: right;\n",
       "    }\n",
       "</style>\n",
       "<table border=\"1\" class=\"dataframe\">\n",
       "  <thead>\n",
       "    <tr style=\"text-align: right;\">\n",
       "      <th></th>\n",
       "      <th>name</th>\n",
       "      <th>rating</th>\n",
       "      <th>pricing</th>\n",
       "      <th>num_reviews</th>\n",
       "      <th>street_address</th>\n",
       "      <th>is_closed</th>\n",
       "      <th>review_count</th>\n",
       "      <th>categories</th>\n",
       "      <th>city</th>\n",
       "      <th>distance</th>\n",
       "      <th>longitude</th>\n",
       "      <th>latitude</th>\n",
       "      <th>alias</th>\n",
       "    </tr>\n",
       "  </thead>\n",
       "  <tbody>\n",
       "    <tr>\n",
       "      <th>0</th>\n",
       "      <td>Bell Flowers, Inc.</td>\n",
       "      <td>5.0</td>\n",
       "      <td>2.0</td>\n",
       "      <td>71</td>\n",
       "      <td>8947 Brookville Rd</td>\n",
       "      <td>False</td>\n",
       "      <td>71</td>\n",
       "      <td>[{'alias': 'florists', 'title': 'Florists'}]</td>\n",
       "      <td>Silver Spring</td>\n",
       "      <td>2972.202721</td>\n",
       "      <td>-77.052067</td>\n",
       "      <td>39.003009</td>\n",
       "      <td>florists</td>\n",
       "    </tr>\n",
       "    <tr>\n",
       "      <th>1</th>\n",
       "      <td>Danisa's Wholesale Fresh Flowers Inc</td>\n",
       "      <td>4.5</td>\n",
       "      <td>2.0</td>\n",
       "      <td>28</td>\n",
       "      <td>8870 Monard Dr</td>\n",
       "      <td>False</td>\n",
       "      <td>28</td>\n",
       "      <td>[{'alias': 'florists', 'title': 'Florists'}]</td>\n",
       "      <td>Silver Spring</td>\n",
       "      <td>3567.895819</td>\n",
       "      <td>-77.059157</td>\n",
       "      <td>39.001541</td>\n",
       "      <td>florists</td>\n",
       "    </tr>\n",
       "    <tr>\n",
       "      <th>2</th>\n",
       "      <td>Potomac Floral Wholesale</td>\n",
       "      <td>3.5</td>\n",
       "      <td>2.0</td>\n",
       "      <td>76</td>\n",
       "      <td>2403 Linden Ln</td>\n",
       "      <td>False</td>\n",
       "      <td>76</td>\n",
       "      <td>[{'alias': 'florists', 'title': 'Florists'}, {...</td>\n",
       "      <td>Silver Spring</td>\n",
       "      <td>3155.302144</td>\n",
       "      <td>-77.050338</td>\n",
       "      <td>39.009649</td>\n",
       "      <td>florists</td>\n",
       "    </tr>\n",
       "    <tr>\n",
       "      <th>4</th>\n",
       "      <td>Garden Vivien</td>\n",
       "      <td>5.0</td>\n",
       "      <td>NaN</td>\n",
       "      <td>1</td>\n",
       "      <td>2223 Kansas Ave</td>\n",
       "      <td>False</td>\n",
       "      <td>1</td>\n",
       "      <td>[{'alias': 'florists', 'title': 'Florists'}]</td>\n",
       "      <td>Silver Spring</td>\n",
       "      <td>2721.772142</td>\n",
       "      <td>-77.049093</td>\n",
       "      <td>39.003290</td>\n",
       "      <td>florists</td>\n",
       "    </tr>\n",
       "    <tr>\n",
       "      <th>5</th>\n",
       "      <td>Da Vinci's Florist</td>\n",
       "      <td>4.0</td>\n",
       "      <td>2.0</td>\n",
       "      <td>37</td>\n",
       "      <td>2756 Garfield Ave</td>\n",
       "      <td>False</td>\n",
       "      <td>37</td>\n",
       "      <td>[{'alias': 'florists', 'title': 'Florists'}, {...</td>\n",
       "      <td>Silver Spring</td>\n",
       "      <td>3451.436878</td>\n",
       "      <td>-77.057779</td>\n",
       "      <td>39.001881</td>\n",
       "      <td>florists</td>\n",
       "    </tr>\n",
       "    <tr>\n",
       "      <th>6</th>\n",
       "      <td>Creative Floral Designs</td>\n",
       "      <td>3.5</td>\n",
       "      <td>2.0</td>\n",
       "      <td>26</td>\n",
       "      <td>12158 Tech Rd</td>\n",
       "      <td>False</td>\n",
       "      <td>26</td>\n",
       "      <td>[{'alias': 'florists', 'title': 'Florists'}, {...</td>\n",
       "      <td>Silver Spring</td>\n",
       "      <td>7528.587951</td>\n",
       "      <td>-76.967169</td>\n",
       "      <td>39.054732</td>\n",
       "      <td>florists</td>\n",
       "    </tr>\n",
       "    <tr>\n",
       "      <th>8</th>\n",
       "      <td>Ella's Florals</td>\n",
       "      <td>5.0</td>\n",
       "      <td>NaN</td>\n",
       "      <td>4</td>\n",
       "      <td>None</td>\n",
       "      <td>False</td>\n",
       "      <td>4</td>\n",
       "      <td>[{'alias': 'florists', 'title': 'Florists'}]</td>\n",
       "      <td>Silver Spring</td>\n",
       "      <td>5007.226265</td>\n",
       "      <td>-77.028870</td>\n",
       "      <td>38.996680</td>\n",
       "      <td>florists</td>\n",
       "    </tr>\n",
       "    <tr>\n",
       "      <th>9</th>\n",
       "      <td>Citiflowers</td>\n",
       "      <td>3.0</td>\n",
       "      <td>NaN</td>\n",
       "      <td>10</td>\n",
       "      <td>2321 Stewart Ave</td>\n",
       "      <td>False</td>\n",
       "      <td>10</td>\n",
       "      <td>[{'alias': 'florists', 'title': 'Florists'}, {...</td>\n",
       "      <td>Silver Spring</td>\n",
       "      <td>2826.536441</td>\n",
       "      <td>-77.050319</td>\n",
       "      <td>39.002958</td>\n",
       "      <td>florists</td>\n",
       "    </tr>\n",
       "    <tr>\n",
       "      <th>10</th>\n",
       "      <td>Roxana Multiservices</td>\n",
       "      <td>3.0</td>\n",
       "      <td>NaN</td>\n",
       "      <td>6</td>\n",
       "      <td>8727 Flower Ave</td>\n",
       "      <td>False</td>\n",
       "      <td>6</td>\n",
       "      <td>[{'alias': 'floraldesigners', 'title': 'Floral...</td>\n",
       "      <td>Silver Spring</td>\n",
       "      <td>1238.291097</td>\n",
       "      <td>-77.003873</td>\n",
       "      <td>38.999579</td>\n",
       "      <td>floraldesigners</td>\n",
       "    </tr>\n",
       "    <tr>\n",
       "      <th>12</th>\n",
       "      <td>Sweet Stems Floral</td>\n",
       "      <td>5.0</td>\n",
       "      <td>NaN</td>\n",
       "      <td>2</td>\n",
       "      <td>3020 Beethoven Way</td>\n",
       "      <td>False</td>\n",
       "      <td>2</td>\n",
       "      <td>[{'alias': 'floraldesigners', 'title': 'Floral...</td>\n",
       "      <td>Silver Spring</td>\n",
       "      <td>9928.829936</td>\n",
       "      <td>-76.945920</td>\n",
       "      <td>39.069223</td>\n",
       "      <td>floraldesigners</td>\n",
       "    </tr>\n",
       "  </tbody>\n",
       "</table>\n",
       "</div>"
      ],
      "text/plain": [
       "                                    name  rating  pricing  num_reviews  \\\n",
       "0                     Bell Flowers, Inc.     5.0      2.0           71   \n",
       "1   Danisa's Wholesale Fresh Flowers Inc     4.5      2.0           28   \n",
       "2               Potomac Floral Wholesale     3.5      2.0           76   \n",
       "4                          Garden Vivien     5.0      NaN            1   \n",
       "5                     Da Vinci's Florist     4.0      2.0           37   \n",
       "6                Creative Floral Designs     3.5      2.0           26   \n",
       "8                         Ella's Florals     5.0      NaN            4   \n",
       "9                            Citiflowers     3.0      NaN           10   \n",
       "10                  Roxana Multiservices     3.0      NaN            6   \n",
       "12                    Sweet Stems Floral     5.0      NaN            2   \n",
       "\n",
       "        street_address  is_closed  review_count  \\\n",
       "0   8947 Brookville Rd      False            71   \n",
       "1       8870 Monard Dr      False            28   \n",
       "2       2403 Linden Ln      False            76   \n",
       "4      2223 Kansas Ave      False             1   \n",
       "5    2756 Garfield Ave      False            37   \n",
       "6        12158 Tech Rd      False            26   \n",
       "8                 None      False             4   \n",
       "9     2321 Stewart Ave      False            10   \n",
       "10     8727 Flower Ave      False             6   \n",
       "12  3020 Beethoven Way      False             2   \n",
       "\n",
       "                                           categories           city  \\\n",
       "0        [{'alias': 'florists', 'title': 'Florists'}]  Silver Spring   \n",
       "1        [{'alias': 'florists', 'title': 'Florists'}]  Silver Spring   \n",
       "2   [{'alias': 'florists', 'title': 'Florists'}, {...  Silver Spring   \n",
       "4        [{'alias': 'florists', 'title': 'Florists'}]  Silver Spring   \n",
       "5   [{'alias': 'florists', 'title': 'Florists'}, {...  Silver Spring   \n",
       "6   [{'alias': 'florists', 'title': 'Florists'}, {...  Silver Spring   \n",
       "8        [{'alias': 'florists', 'title': 'Florists'}]  Silver Spring   \n",
       "9   [{'alias': 'florists', 'title': 'Florists'}, {...  Silver Spring   \n",
       "10  [{'alias': 'floraldesigners', 'title': 'Floral...  Silver Spring   \n",
       "12  [{'alias': 'floraldesigners', 'title': 'Floral...  Silver Spring   \n",
       "\n",
       "       distance  longitude   latitude            alias  \n",
       "0   2972.202721 -77.052067  39.003009         florists  \n",
       "1   3567.895819 -77.059157  39.001541         florists  \n",
       "2   3155.302144 -77.050338  39.009649         florists  \n",
       "4   2721.772142 -77.049093  39.003290         florists  \n",
       "5   3451.436878 -77.057779  39.001881         florists  \n",
       "6   7528.587951 -76.967169  39.054732         florists  \n",
       "8   5007.226265 -77.028870  38.996680         florists  \n",
       "9   2826.536441 -77.050319  39.002958         florists  \n",
       "10  1238.291097 -77.003873  38.999579  floraldesigners  \n",
       "12  9928.829936 -76.945920  39.069223  floraldesigners  "
      ]
     },
     "execution_count": 68,
     "metadata": {},
     "output_type": "execute_result"
    }
   ],
   "source": [
    "ssdf"
   ]
  },
  {
   "cell_type": "code",
   "execution_count": 69,
   "metadata": {},
   "outputs": [
    {
     "data": {
      "text/html": [
       "<div>\n",
       "<style scoped>\n",
       "    .dataframe tbody tr th:only-of-type {\n",
       "        vertical-align: middle;\n",
       "    }\n",
       "\n",
       "    .dataframe tbody tr th {\n",
       "        vertical-align: top;\n",
       "    }\n",
       "\n",
       "    .dataframe thead th {\n",
       "        text-align: right;\n",
       "    }\n",
       "</style>\n",
       "<table border=\"1\" class=\"dataframe\">\n",
       "  <thead>\n",
       "    <tr style=\"text-align: right;\">\n",
       "      <th></th>\n",
       "      <th>name</th>\n",
       "      <th>rating</th>\n",
       "      <th>pricing</th>\n",
       "      <th>num_reviews</th>\n",
       "      <th>street_address</th>\n",
       "      <th>is_closed</th>\n",
       "      <th>review_count</th>\n",
       "      <th>categories</th>\n",
       "      <th>city</th>\n",
       "      <th>distance</th>\n",
       "      <th>longitude</th>\n",
       "      <th>latitude</th>\n",
       "      <th>alias</th>\n",
       "    </tr>\n",
       "  </thead>\n",
       "  <tbody>\n",
       "    <tr>\n",
       "      <th>0</th>\n",
       "      <td>Loudoun D Floral</td>\n",
       "      <td>4.5</td>\n",
       "      <td>2.0</td>\n",
       "      <td>16</td>\n",
       "      <td></td>\n",
       "      <td>False</td>\n",
       "      <td>16</td>\n",
       "      <td>[{'alias': 'florists', 'title': 'Florists'}]</td>\n",
       "      <td>Leesburg</td>\n",
       "      <td>1491.759497</td>\n",
       "      <td>-77.534730</td>\n",
       "      <td>39.130220</td>\n",
       "      <td>florists</td>\n",
       "    </tr>\n",
       "    <tr>\n",
       "      <th>1</th>\n",
       "      <td>J Morris Flowers</td>\n",
       "      <td>4.0</td>\n",
       "      <td>3.0</td>\n",
       "      <td>26</td>\n",
       "      <td>120 East Market St</td>\n",
       "      <td>False</td>\n",
       "      <td>26</td>\n",
       "      <td>[{'alias': 'florists', 'title': 'Florists'}]</td>\n",
       "      <td>Leesburg</td>\n",
       "      <td>1314.094845</td>\n",
       "      <td>-77.561445</td>\n",
       "      <td>39.114299</td>\n",
       "      <td>florists</td>\n",
       "    </tr>\n",
       "    <tr>\n",
       "      <th>2</th>\n",
       "      <td>Jerry's Flowers &amp; Gifts</td>\n",
       "      <td>4.0</td>\n",
       "      <td>2.0</td>\n",
       "      <td>22</td>\n",
       "      <td>700 Fieldstone Dr NE</td>\n",
       "      <td>False</td>\n",
       "      <td>22</td>\n",
       "      <td>[{'alias': 'florists', 'title': 'Florists'}]</td>\n",
       "      <td>Leesburg</td>\n",
       "      <td>1147.831498</td>\n",
       "      <td>-77.545801</td>\n",
       "      <td>39.125919</td>\n",
       "      <td>florists</td>\n",
       "    </tr>\n",
       "    <tr>\n",
       "      <th>3</th>\n",
       "      <td>CPK Floral Designs</td>\n",
       "      <td>5.0</td>\n",
       "      <td>NaN</td>\n",
       "      <td>8</td>\n",
       "      <td>None</td>\n",
       "      <td>False</td>\n",
       "      <td>8</td>\n",
       "      <td>[{'alias': 'florists', 'title': 'Florists'}, {...</td>\n",
       "      <td>Leesburg</td>\n",
       "      <td>1491.759497</td>\n",
       "      <td>-77.531944</td>\n",
       "      <td>39.119907</td>\n",
       "      <td>florists</td>\n",
       "    </tr>\n",
       "    <tr>\n",
       "      <th>4</th>\n",
       "      <td>Springvale Floral</td>\n",
       "      <td>5.0</td>\n",
       "      <td>NaN</td>\n",
       "      <td>4</td>\n",
       "      <td>None</td>\n",
       "      <td>False</td>\n",
       "      <td>4</td>\n",
       "      <td>[{'alias': 'floraldesigners', 'title': 'Floral...</td>\n",
       "      <td>Leesburg</td>\n",
       "      <td>1491.759497</td>\n",
       "      <td>-77.569520</td>\n",
       "      <td>39.112050</td>\n",
       "      <td>floraldesigners</td>\n",
       "    </tr>\n",
       "    <tr>\n",
       "      <th>5</th>\n",
       "      <td>House Of Redman</td>\n",
       "      <td>5.0</td>\n",
       "      <td>NaN</td>\n",
       "      <td>1</td>\n",
       "      <td>206 Loudoun St SW</td>\n",
       "      <td>False</td>\n",
       "      <td>1</td>\n",
       "      <td>[{'alias': 'florists', 'title': 'Florists'}, {...</td>\n",
       "      <td>Leesburg</td>\n",
       "      <td>1858.989002</td>\n",
       "      <td>-77.567840</td>\n",
       "      <td>39.115130</td>\n",
       "      <td>florists</td>\n",
       "    </tr>\n",
       "    <tr>\n",
       "      <th>6</th>\n",
       "      <td>Holly Heider Chapple Flowers</td>\n",
       "      <td>4.0</td>\n",
       "      <td>NaN</td>\n",
       "      <td>3</td>\n",
       "      <td>None</td>\n",
       "      <td>False</td>\n",
       "      <td>3</td>\n",
       "      <td>[{'alias': 'florists', 'title': 'Florists'}]</td>\n",
       "      <td>Leesburg</td>\n",
       "      <td>1491.759497</td>\n",
       "      <td>-77.566540</td>\n",
       "      <td>39.108480</td>\n",
       "      <td>florists</td>\n",
       "    </tr>\n",
       "    <tr>\n",
       "      <th>7</th>\n",
       "      <td>Wild Green Yonder</td>\n",
       "      <td>5.0</td>\n",
       "      <td>NaN</td>\n",
       "      <td>2</td>\n",
       "      <td>106 Loudoun St SW</td>\n",
       "      <td>False</td>\n",
       "      <td>2</td>\n",
       "      <td>[{'alias': 'floraldesigners', 'title': 'Floral...</td>\n",
       "      <td>Leesburg</td>\n",
       "      <td>1773.476827</td>\n",
       "      <td>-77.566845</td>\n",
       "      <td>39.114899</td>\n",
       "      <td>floraldesigners</td>\n",
       "    </tr>\n",
       "    <tr>\n",
       "      <th>10</th>\n",
       "      <td>Affordable Arrangements</td>\n",
       "      <td>5.0</td>\n",
       "      <td>NaN</td>\n",
       "      <td>2</td>\n",
       "      <td></td>\n",
       "      <td>False</td>\n",
       "      <td>2</td>\n",
       "      <td>[{'alias': 'floraldesigners', 'title': 'Floral...</td>\n",
       "      <td>Leesburg</td>\n",
       "      <td>1491.759497</td>\n",
       "      <td>-77.569405</td>\n",
       "      <td>39.110386</td>\n",
       "      <td>floraldesigners</td>\n",
       "    </tr>\n",
       "  </tbody>\n",
       "</table>\n",
       "</div>"
      ],
      "text/plain": [
       "                            name  rating  pricing  num_reviews  \\\n",
       "0               Loudoun D Floral     4.5      2.0           16   \n",
       "1               J Morris Flowers     4.0      3.0           26   \n",
       "2        Jerry's Flowers & Gifts     4.0      2.0           22   \n",
       "3             CPK Floral Designs     5.0      NaN            8   \n",
       "4              Springvale Floral     5.0      NaN            4   \n",
       "5                House Of Redman     5.0      NaN            1   \n",
       "6   Holly Heider Chapple Flowers     4.0      NaN            3   \n",
       "7              Wild Green Yonder     5.0      NaN            2   \n",
       "10       Affordable Arrangements     5.0      NaN            2   \n",
       "\n",
       "          street_address  is_closed  review_count  \\\n",
       "0                             False            16   \n",
       "1     120 East Market St      False            26   \n",
       "2   700 Fieldstone Dr NE      False            22   \n",
       "3                   None      False             8   \n",
       "4                   None      False             4   \n",
       "5      206 Loudoun St SW      False             1   \n",
       "6                   None      False             3   \n",
       "7      106 Loudoun St SW      False             2   \n",
       "10                            False             2   \n",
       "\n",
       "                                           categories      city     distance  \\\n",
       "0        [{'alias': 'florists', 'title': 'Florists'}]  Leesburg  1491.759497   \n",
       "1        [{'alias': 'florists', 'title': 'Florists'}]  Leesburg  1314.094845   \n",
       "2        [{'alias': 'florists', 'title': 'Florists'}]  Leesburg  1147.831498   \n",
       "3   [{'alias': 'florists', 'title': 'Florists'}, {...  Leesburg  1491.759497   \n",
       "4   [{'alias': 'floraldesigners', 'title': 'Floral...  Leesburg  1491.759497   \n",
       "5   [{'alias': 'florists', 'title': 'Florists'}, {...  Leesburg  1858.989002   \n",
       "6        [{'alias': 'florists', 'title': 'Florists'}]  Leesburg  1491.759497   \n",
       "7   [{'alias': 'floraldesigners', 'title': 'Floral...  Leesburg  1773.476827   \n",
       "10  [{'alias': 'floraldesigners', 'title': 'Floral...  Leesburg  1491.759497   \n",
       "\n",
       "    longitude   latitude            alias  \n",
       "0  -77.534730  39.130220         florists  \n",
       "1  -77.561445  39.114299         florists  \n",
       "2  -77.545801  39.125919         florists  \n",
       "3  -77.531944  39.119907         florists  \n",
       "4  -77.569520  39.112050  floraldesigners  \n",
       "5  -77.567840  39.115130         florists  \n",
       "6  -77.566540  39.108480         florists  \n",
       "7  -77.566845  39.114899  floraldesigners  \n",
       "10 -77.569405  39.110386  floraldesigners  "
      ]
     },
     "execution_count": 69,
     "metadata": {},
     "output_type": "execute_result"
    }
   ],
   "source": [
    "lbdf"
   ]
  },
  {
   "cell_type": "markdown",
   "metadata": {},
   "source": [
    "## Analysis"
   ]
  },
  {
   "cell_type": "code",
   "execution_count": 70,
   "metadata": {},
   "outputs": [],
   "source": [
    "# Graph totals"
   ]
  },
  {
   "cell_type": "code",
   "execution_count": null,
   "metadata": {},
   "outputs": [],
   "source": [
    "# Retrieve population data from Census"
   ]
  },
  {
   "cell_type": "code",
   "execution_count": null,
   "metadata": {},
   "outputs": [],
   "source": [
    "# Flower shop per 1,000 people"
   ]
  },
  {
   "cell_type": "code",
   "execution_count": null,
   "metadata": {},
   "outputs": [],
   "source": [
    "# Average income from each city"
   ]
  },
  {
   "cell_type": "code",
   "execution_count": null,
   "metadata": {},
   "outputs": [],
   "source": [
    "# Average age from each city"
   ]
  },
  {
   "cell_type": "code",
   "execution_count": null,
   "metadata": {},
   "outputs": [],
   "source": [
    "# Flower buyer demographic info?"
   ]
  },
  {
   "cell_type": "code",
   "execution_count": null,
   "metadata": {},
   "outputs": [],
   "source": []
  },
  {
   "cell_type": "code",
   "execution_count": null,
   "metadata": {},
   "outputs": [],
   "source": []
  },
  {
   "cell_type": "code",
   "execution_count": null,
   "metadata": {},
   "outputs": [],
   "source": []
  },
  {
   "cell_type": "code",
   "execution_count": null,
   "metadata": {},
   "outputs": [],
   "source": []
  },
  {
   "cell_type": "markdown",
   "metadata": {},
   "source": [
    "## Maps"
   ]
  },
  {
   "cell_type": "code",
   "execution_count": 71,
   "metadata": {},
   "outputs": [],
   "source": [
    "# Point maps for each city"
   ]
  },
  {
   "cell_type": "code",
   "execution_count": null,
   "metadata": {},
   "outputs": [],
   "source": [
    "# Population heat map"
   ]
  },
  {
   "cell_type": "code",
   "execution_count": null,
   "metadata": {},
   "outputs": [],
   "source": [
    "# Population head map plus point map (show who services who)"
   ]
  },
  {
   "cell_type": "code",
   "execution_count": null,
   "metadata": {},
   "outputs": [],
   "source": []
  },
  {
   "cell_type": "code",
   "execution_count": null,
   "metadata": {},
   "outputs": [],
   "source": []
  },
  {
   "cell_type": "markdown",
   "metadata": {},
   "source": [
    "## Decision"
   ]
  },
  {
   "cell_type": "markdown",
   "metadata": {},
   "source": []
  }
 ],
 "metadata": {
  "interpreter": {
   "hash": "dba4e39bde81d51a0d9c8c6f450212468c51e66449dcd8bec1436e8ac13e18af"
  },
  "kernelspec": {
   "display_name": "Python 3.8.8 64-bit ('base': conda)",
   "name": "python3"
  },
  "language_info": {
   "codemirror_mode": {
    "name": "ipython",
    "version": 3
   },
   "file_extension": ".py",
   "mimetype": "text/x-python",
   "name": "python",
   "nbconvert_exporter": "python",
   "pygments_lexer": "ipython3",
   "version": "3.8.8"
  },
  "orig_nbformat": 4
 },
 "nbformat": 4,
 "nbformat_minor": 2
}
